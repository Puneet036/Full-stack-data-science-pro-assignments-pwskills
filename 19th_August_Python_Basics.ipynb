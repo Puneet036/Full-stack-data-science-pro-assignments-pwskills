{
 "cells": [
  {
   "cell_type": "markdown",
   "id": "a6142e76-d7cb-4da1-9590-15cd45408fb0",
   "metadata": {},
   "source": [
    "TOPIC: Python Basics Variable"
   ]
  },
  {
   "cell_type": "markdown",
   "id": "c934b88b-f3f2-46e9-9517-5f99c97714d6",
   "metadata": {},
   "source": [
    "1. Declare two variables, `x` and `y`, and assign them integer values. Swap the values of these variables without using any temporary variable."
   ]
  },
  {
   "cell_type": "code",
   "execution_count": 3,
   "id": "8d66f2e4-db68-490c-b056-7cb3a670af4e",
   "metadata": {},
   "outputs": [
    {
     "name": "stdout",
     "output_type": "stream",
     "text": [
      "Before x : 2 and y : 4\n",
      "After x : 4 and y : 2\n"
     ]
    }
   ],
   "source": [
    "x = 2 \n",
    "y = 4 \n",
    "\n",
    "print(f\"Before x : {x} and y : {y}\")\n",
    "\n",
    "x,y = y,x \n",
    "\n",
    "print(f\"After x : {x} and y : {y}\")"
   ]
  },
  {
   "cell_type": "markdown",
   "id": "2db259f0-40da-435e-aeba-001780741d99",
   "metadata": {},
   "source": [
    "2. Create a program that calculates the area of a rectangle. Take the length and width as inputs from the user and store them in variables. Calculate and display the area."
   ]
  },
  {
   "cell_type": "code",
   "execution_count": 4,
   "id": "5905258d-d0bc-48c2-b10c-44ffca891a8d",
   "metadata": {},
   "outputs": [
    {
     "name": "stdin",
     "output_type": "stream",
     "text": [
      "Enter the length of the rectangle :  2\n",
      "Enter the width of the rectangle :  3\n"
     ]
    },
    {
     "name": "stdout",
     "output_type": "stream",
     "text": [
      "Area of rectangle is 6.0\n"
     ]
    }
   ],
   "source": [
    "x = float(input(\"Enter the length of the rectangle : \"))\n",
    "y = float(input(\"Enter the width of the rectangle : \"))\n",
    "\n",
    "area = x * y \n",
    "\n",
    "print(\"Area of rectangle is\" ,area)\n",
    "\n"
   ]
  },
  {
   "cell_type": "markdown",
   "id": "b75bcbea-5d6f-4c71-8359-de32d838f614",
   "metadata": {},
   "source": [
    "3. Write a Python program that converts temperatures from Celsius to Fahrenheit. Take the temperature in Celsius as input, store it in a variable, convert it to Fahrenheit, and display the result."
   ]
  },
  {
   "cell_type": "code",
   "execution_count": 2,
   "id": "ce83c28f-c1e6-4b14-bb9b-75fb0d468ac0",
   "metadata": {},
   "outputs": [
    {
     "name": "stdin",
     "output_type": "stream",
     "text": [
      "Enter the Temperature in Celsius :  43.43\n"
     ]
    },
    {
     "name": "stdout",
     "output_type": "stream",
     "text": [
      "Temperature in Fahrenheit :  110.174\n"
     ]
    }
   ],
   "source": [
    "celsius = float(input(\"Enter the Temperature in Celsius : \"))\n",
    "\n",
    "fahrenheit = (celsius * 9/5) + 32\n",
    "\n",
    "print(\"Temperature in Fahrenheit : \",fahrenheit )"
   ]
  },
  {
   "cell_type": "markdown",
   "id": "a1c9d7fb-fbb5-4ce7-a19d-3e295ed51792",
   "metadata": {},
   "source": [
    "TOPIC: String Based Questions"
   ]
  },
  {
   "cell_type": "markdown",
   "id": "e336f45d-9e7b-4e24-a67b-b6220e1e548d",
   "metadata": {},
   "source": [
    "1. Write a Python program that takes a string as input and prints the length of the string."
   ]
  },
  {
   "cell_type": "code",
   "execution_count": 6,
   "id": "758b95fc-e647-405b-ae44-79b1819f14d2",
   "metadata": {},
   "outputs": [
    {
     "name": "stdin",
     "output_type": "stream",
     "text": [
      "Enter a string :  Puneet\n"
     ]
    },
    {
     "name": "stdout",
     "output_type": "stream",
     "text": [
      "Length of the string :  6\n"
     ]
    }
   ],
   "source": [
    "int_string = input(\"Enter a string : \")\n",
    "\n",
    "string_length = len(int_string)\n",
    "\n",
    "print(\"Length of the string : \",string_length)"
   ]
  },
  {
   "cell_type": "markdown",
   "id": "4e5c45c0-f2f9-4403-9e33-592414a867ff",
   "metadata": {},
   "source": [
    "2. Create a program that takes a sentence from the user and counts the number of vowels (a, e, i, o, u) in the string."
   ]
  },
  {
   "cell_type": "code",
   "execution_count": 9,
   "id": "4cf2b8f3-74a6-4289-8d37-60c2677a44cf",
   "metadata": {},
   "outputs": [
    {
     "name": "stdin",
     "output_type": "stream",
     "text": [
      "Enter a sentence :  My name is Puneet\n"
     ]
    },
    {
     "name": "stdout",
     "output_type": "stream",
     "text": [
      "Entered sentence : 'My name is Puneet' has 6 vowels.\n"
     ]
    }
   ],
   "source": [
    "int_string = input(\"Enter a sentence : \")\n",
    "\n",
    "vowels = \"aeiou\"\n",
    "count = 0\n",
    "\n",
    "for chr in int_string:\n",
    "    lowercase = chr.lower()\n",
    "    \n",
    "    if lowercase in vowels:\n",
    "        count+=1\n",
    "        \n",
    "print(f\"Entered sentence : '{int_string}' has {count} vowels.\")\n"
   ]
  },
  {
   "cell_type": "markdown",
   "id": "35d088cd-b855-46fa-a245-6229e1a27f6c",
   "metadata": {},
   "source": [
    "3. Given a string, reverse the order of characters using string slicing and print the reversed string."
   ]
  },
  {
   "cell_type": "code",
   "execution_count": 10,
   "id": "c7934bbd-94a6-4555-97cc-3c313863351c",
   "metadata": {},
   "outputs": [
    {
     "name": "stdin",
     "output_type": "stream",
     "text": [
      "Enter a String :  Puneet\n"
     ]
    },
    {
     "name": "stdout",
     "output_type": "stream",
     "text": [
      "Reversed String :  teenuP\n"
     ]
    }
   ],
   "source": [
    "int_string = input(\"Enter a String : \")\n",
    "\n",
    "rev_string = int_string[::-1]\n",
    "\n",
    "print(\"Reversed String : \",rev_string)"
   ]
  },
  {
   "cell_type": "markdown",
   "id": "0ca12f6f-0320-4702-9510-f4bddc4b484e",
   "metadata": {},
   "source": [
    "4. Write a program that takes a string as input and checks if it is a palindrome (reads the same forwards and backwards)."
   ]
  },
  {
   "cell_type": "code",
   "execution_count": 13,
   "id": "b83f7ee4-19c2-4136-9891-1723c691598a",
   "metadata": {},
   "outputs": [
    {
     "name": "stdin",
     "output_type": "stream",
     "text": [
      "Enter a String :  Mom\n"
     ]
    },
    {
     "name": "stdout",
     "output_type": "stream",
     "text": [
      "Entered String is Palindrome\n"
     ]
    }
   ],
   "source": [
    "int_string = input(\"Enter a String : \")\n",
    "\n",
    "lowercase_str = int_string.lower()\n",
    "\n",
    "if lowercase_str == lowercase_str[::-1]:\n",
    "    print(\"Entered String is Palindrome\")   \n",
    "else:\n",
    "    print(\"Entered String is not a Palindrome\")"
   ]
  },
  {
   "cell_type": "markdown",
   "id": "db22bb42-faba-472c-a32e-a77be3b1ecda",
   "metadata": {},
   "source": [
    "5. Create a program that takes a string as input and removes all the spaces from it. Print the modified string without spaces."
   ]
  },
  {
   "cell_type": "code",
   "execution_count": 14,
   "id": "ab6d3ad7-6dd8-4b2d-8463-51bf633d150b",
   "metadata": {},
   "outputs": [
    {
     "name": "stdin",
     "output_type": "stream",
     "text": [
      "Enter a String :  My name is Puneet\n"
     ]
    },
    {
     "name": "stdout",
     "output_type": "stream",
     "text": [
      "Modified String :  MynameisPuneet\n"
     ]
    }
   ],
   "source": [
    "int_string = input(\"Enter a String : \")\n",
    "\n",
    "mofified_str = int_string.replace(\" \" ,\"\")\n",
    "\n",
    "print(\"Modified String : \", mofified_str)"
   ]
  },
  {
   "cell_type": "code",
   "execution_count": null,
   "id": "3c4f1785-42dc-4c54-83a8-b84772fa309a",
   "metadata": {},
   "outputs": [],
   "source": []
  }
 ],
 "metadata": {
  "kernelspec": {
   "display_name": "Python 3 (ipykernel)",
   "language": "python",
   "name": "python3"
  },
  "language_info": {
   "codemirror_mode": {
    "name": "ipython",
    "version": 3
   },
   "file_extension": ".py",
   "mimetype": "text/x-python",
   "name": "python",
   "nbconvert_exporter": "python",
   "pygments_lexer": "ipython3",
   "version": "3.10.8"
  }
 },
 "nbformat": 4,
 "nbformat_minor": 5
}
