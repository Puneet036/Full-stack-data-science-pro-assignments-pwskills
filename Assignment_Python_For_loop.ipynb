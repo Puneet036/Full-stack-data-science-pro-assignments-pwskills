{
 "cells": [
  {
   "cell_type": "markdown",
   "id": "817a5afd-fa61-4a92-9f52-6f17e46b3e2c",
   "metadata": {},
   "source": [
    "Basic Level"
   ]
  },
  {
   "cell_type": "markdown",
   "id": "a7492170-019f-44ad-8edd-8e61d844a700",
   "metadata": {},
   "source": [
    "1. Write a Python program to print the numbers from 1 to 10 using a `for` loop"
   ]
  },
  {
   "cell_type": "code",
   "execution_count": 2,
   "id": "c9f654a5-208f-4072-b075-264aa7c2e8f5",
   "metadata": {},
   "outputs": [
    {
     "name": "stdout",
     "output_type": "stream",
     "text": [
      "1\n",
      "2\n",
      "3\n",
      "4\n",
      "5\n",
      "6\n",
      "7\n",
      "8\n",
      "9\n",
      "10\n"
     ]
    }
   ],
   "source": [
    "for num in range(1,11):\n",
    "    print(num)"
   ]
  },
  {
   "cell_type": "markdown",
   "id": "92257ca0-7531-4dd5-b622-b6566e68372f",
   "metadata": {},
   "source": [
    "2. Create a program that calculates the sum of all numbers in a list using a `for` loop."
   ]
  },
  {
   "cell_type": "code",
   "execution_count": 2,
   "id": "4beb4730-be2c-4104-b1bd-c687b957fe6f",
   "metadata": {},
   "outputs": [
    {
     "name": "stdout",
     "output_type": "stream",
     "text": [
      "21\n"
     ]
    }
   ],
   "source": [
    "numbers = [1,2,3,4,5,6]\n",
    "\n",
    "sum=0\n",
    "\n",
    "for i in numbers:\n",
    "    sum+=i\n",
    "    \n",
    "print(sum)"
   ]
  },
  {
   "cell_type": "markdown",
   "id": "6f4f1000-ba9e-44b2-a86e-c7173130655e",
   "metadata": {},
   "source": [
    "3. Write a program to print the characters of a string in reverse order using a `for` loop."
   ]
  },
  {
   "cell_type": "code",
   "execution_count": 6,
   "id": "68619547-3150-4ea1-8f71-5ef55fc01de3",
   "metadata": {},
   "outputs": [
    {
     "name": "stdout",
     "output_type": "stream",
     "text": [
      "! dlrow olleH"
     ]
    }
   ],
   "source": [
    "txt = \"Hello world !\"\n",
    "\n",
    "for i in reversed(txt):\n",
    "    print(i, end = '')"
   ]
  },
  {
   "cell_type": "markdown",
   "id": "3265f024-4745-4f24-9665-49645e4a2ec6",
   "metadata": {},
   "source": [
    "4. Develop a program that finds the factorial of a given number using a `for` loop."
   ]
  },
  {
   "cell_type": "code",
   "execution_count": 10,
   "id": "b75b6b42-9ad8-4f0c-ae43-5cc5c1ab8769",
   "metadata": {},
   "outputs": [
    {
     "name": "stdin",
     "output_type": "stream",
     "text": [
      "Enter a Number: 6\n"
     ]
    },
    {
     "name": "stdout",
     "output_type": "stream",
     "text": [
      "Factorial of 6 is 720\n"
     ]
    }
   ],
   "source": [
    "num = int(input(\"Enter a Number:\"))\n",
    "\n",
    "factorial = 1 \n",
    "\n",
    "for i in range(1, num + 1):\n",
    "    factorial*=i\n",
    "    \n",
    "print(\"Factorial of\", num, \"is\", factorial)"
   ]
  },
  {
   "cell_type": "markdown",
   "id": "8e8202da-febf-435a-807b-2f1429dfcd7c",
   "metadata": {},
   "source": [
    "5. Create a program to print the multiplication table of a given number using a `for` loop."
   ]
  },
  {
   "cell_type": "code",
   "execution_count": 13,
   "id": "51530724-1035-4e61-acc4-dac8d34550a7",
   "metadata": {},
   "outputs": [
    {
     "name": "stdin",
     "output_type": "stream",
     "text": [
      "Enter a Number: 2\n"
     ]
    },
    {
     "name": "stdout",
     "output_type": "stream",
     "text": [
      "2 x 1 = 2\n",
      "2 x 2 = 4\n",
      "2 x 3 = 6\n",
      "2 x 4 = 8\n",
      "2 x 5 = 10\n",
      "2 x 6 = 12\n",
      "2 x 7 = 14\n",
      "2 x 8 = 16\n",
      "2 x 9 = 18\n",
      "2 x 10 = 20\n"
     ]
    }
   ],
   "source": [
    "num = int(input(\"Enter a Number:\"))\n",
    "sum=0\n",
    "\n",
    "for i in range(1,11):\n",
    "    sum=num*i\n",
    "    print(num, \"x\", i, \"=\", num * i)\n"
   ]
  },
  {
   "cell_type": "markdown",
   "id": "000590df-78b6-4c6a-bbfe-fba4dfe0284f",
   "metadata": {},
   "source": [
    "6. Write a program that counts the number of even and odd numbers in a list using a `for` loop."
   ]
  },
  {
   "cell_type": "code",
   "execution_count": 14,
   "id": "45d7308d-2bea-4136-83c4-2a92624f511d",
   "metadata": {},
   "outputs": [
    {
     "name": "stdout",
     "output_type": "stream",
     "text": [
      "Even numbers: 4\n",
      "Odd numbers: 5\n"
     ]
    }
   ],
   "source": [
    "list = [1,2,3,4,5,6,7,8,9]\n",
    "int_even = 0 \n",
    "int_odd= 0 \n",
    "\n",
    "for i in list:\n",
    "    if i % 2 == 0:\n",
    "        int_even+=1\n",
    "    else:\n",
    "        int_odd+=1\n",
    "        \n",
    "print(\"Even numbers:\", int_even)\n",
    "print(\"Odd numbers:\", int_odd)"
   ]
  },
  {
   "cell_type": "markdown",
   "id": "e03a097c-d2b1-4f77-9cb5-4821d7f06efa",
   "metadata": {},
   "source": [
    "7. Develop a program that prints the squares of numbers from 1 to 5 using a `for` loop."
   ]
  },
  {
   "cell_type": "code",
   "execution_count": 18,
   "id": "a1653adf-1bcd-4863-9a85-dbea385a1241",
   "metadata": {},
   "outputs": [
    {
     "name": "stdout",
     "output_type": "stream",
     "text": [
      "Square of 1 is 1\n",
      "Square of 2 is 4\n",
      "Square of 3 is 9\n",
      "Square of 4 is 16\n",
      "Square of 5 is 25\n"
     ]
    }
   ],
   "source": [
    "for i in range(1,6):\n",
    "    square = i ** 2\n",
    "    print(\"Square of\", i, \"is\", square)"
   ]
  },
  {
   "cell_type": "markdown",
   "id": "0c114664-5797-41ee-b29f-44a74f536e89",
   "metadata": {},
   "source": [
    "8. Create a program to find the length of a string without using the `len()` function."
   ]
  },
  {
   "cell_type": "code",
   "execution_count": 19,
   "id": "59f430cc-3606-4ed0-93b8-b88936fb8e12",
   "metadata": {},
   "outputs": [
    {
     "name": "stdout",
     "output_type": "stream",
     "text": [
      "Length of the string: 13\n"
     ]
    }
   ],
   "source": [
    "string =\"Hello world !\"\n",
    "\n",
    "len = 0\n",
    "\n",
    "for i in string:\n",
    "    len+=1\n",
    "\n",
    "print(\"Length of the string:\", len)"
   ]
  },
  {
   "cell_type": "markdown",
   "id": "241e76ad-7b43-4163-9b16-a7207b321467",
   "metadata": {},
   "source": [
    "9. Write a program that calculates the average of a list of numbers using a `for` loop."
   ]
  },
  {
   "cell_type": "code",
   "execution_count": 22,
   "id": "19254c62-8a5f-4ce4-9f40-124987854b70",
   "metadata": {},
   "outputs": [
    {
     "name": "stdout",
     "output_type": "stream",
     "text": [
      "Average: 3.5\n"
     ]
    }
   ],
   "source": [
    "numbers = [1,2,3,4,5,6]\n",
    "\n",
    "sum=0\n",
    "count=0\n",
    "\n",
    "for i in numbers:\n",
    "    sum+=i\n",
    "    count+=1\n",
    "\n",
    "average = sum/count\n",
    "print(\"Average:\", average)"
   ]
  },
  {
   "cell_type": "markdown",
   "id": "2030777e-8d55-44a4-ad5a-c5313e59d08c",
   "metadata": {},
   "source": [
    "10. Develop a program that prints the first `n` Fibonacci numbers using a `for` loop."
   ]
  },
  {
   "cell_type": "code",
   "execution_count": 1,
   "id": "b09404ec-89f5-4632-a050-933dc9d6c9a7",
   "metadata": {},
   "outputs": [
    {
     "name": "stdout",
     "output_type": "stream",
     "text": [
      "0\n",
      "1\n",
      "1\n",
      "2\n",
      "3\n",
      "5\n",
      "8\n",
      "13\n",
      "21\n",
      "34\n"
     ]
    }
   ],
   "source": [
    "n = 10\n",
    "\n",
    "fib1 = 0\n",
    "fib2 = 1\n",
    "\n",
    "for _ in range(n):\n",
    "   \n",
    "    print(fib1)  \n",
    "    fib1, fib2 = fib2, fib1 + fib2  "
   ]
  },
  {
   "cell_type": "markdown",
   "id": "de350e69-8ec4-4aa9-9e4c-ce55dc894339",
   "metadata": {},
   "source": [
    "Intermediate Level:"
   ]
  },
  {
   "cell_type": "markdown",
   "id": "49d181a8-768e-4c2f-93a9-fbcf243ce518",
   "metadata": {},
   "source": [
    "11. Write a program to check if a given list contains any duplicates using a `for` loop."
   ]
  },
  {
   "cell_type": "code",
   "execution_count": 2,
   "id": "7592a5b7-15bb-40dc-8d27-e440dd7953f7",
   "metadata": {},
   "outputs": [
    {
     "name": "stdout",
     "output_type": "stream",
     "text": [
      "List contains duplicate\n"
     ]
    }
   ],
   "source": [
    "list = [1,2,3,4,4,5,6,7]\n",
    "\n",
    "is_duplicate = False\n",
    "\n",
    "for i in range(len(list)):\n",
    "    for j in range(i+1,len(list)):\n",
    "        if list[i]==list[j]:\n",
    "            is_duplicate=True\n",
    "            break\n",
    "            \n",
    "if is_duplicate:\n",
    "    print(\"List contains duplicate\")\n",
    "else:\n",
    "    print(\"List does not contain duplicate\")"
   ]
  },
  {
   "cell_type": "markdown",
   "id": "bf1ca5e6-0fd9-477a-81a0-5fb60ffa0515",
   "metadata": {},
   "source": [
    "12. Create a program that prints the prime numbers in a given range using a `for` loop."
   ]
  },
  {
   "cell_type": "code",
   "execution_count": 3,
   "id": "2b602ba3-4482-489a-ad46-9cd1788ac0cc",
   "metadata": {},
   "outputs": [
    {
     "name": "stdout",
     "output_type": "stream",
     "text": [
      "11 13 17 19 23 29 31 37 41 43 47 53 59 "
     ]
    }
   ],
   "source": [
    "num1 = 10\n",
    "num2 = 60 \n",
    "\n",
    "def is_prime(num):\n",
    "    if num<=1:\n",
    "        return False\n",
    "        \n",
    "    for i in range(2, int(num ** 0.5) + 1):\n",
    "        if num%i==0:\n",
    "            return False\n",
    "            \n",
    "    return True\n",
    "\n",
    "for num in range(num1,num2+1):\n",
    "    if is_prime(num):\n",
    "        print(num, end=' ')"
   ]
  },
  {
   "cell_type": "markdown",
   "id": "0b8a7586-aa12-454a-95ed-8fb0beefd5ac",
   "metadata": {},
   "source": [
    "13. Develop a program that counts the number of vowels in a string using a `for` loop."
   ]
  },
  {
   "cell_type": "code",
   "execution_count": 8,
   "id": "1d6c11f4-a1b1-49c1-8da8-13525faa4ed3",
   "metadata": {},
   "outputs": [
    {
     "name": "stdout",
     "output_type": "stream",
     "text": [
      "There are 7 vowels\n"
     ]
    }
   ],
   "source": [
    "inpt_string = 'this is a example string.'\n",
    "\n",
    "vowl_string = \"aeiou\"\n",
    "\n",
    "count = 0\n",
    "\n",
    "for chr in inpt_string:\n",
    "    chr_lowercase = chr.lower()\n",
    "\n",
    "    if chr_lowercase in vowl_string:\n",
    "        count = count + 1\n",
    "\n",
    "print(f\"There are {count} vowels\")"
   ]
  },
  {
   "cell_type": "markdown",
   "id": "7d42a7d3-273b-4705-adcf-b6b9f6eeb166",
   "metadata": {},
   "source": [
    "14. Write a program to find the maximum element in a 2D list using a nested `for` loop."
   ]
  },
  {
   "cell_type": "code",
   "execution_count": 1,
   "id": "500d7648-92a3-4032-b770-9683808a6498",
   "metadata": {},
   "outputs": [
    {
     "name": "stdout",
     "output_type": "stream",
     "text": [
      "Maximum element: 9\n"
     ]
    }
   ],
   "source": [
    "matrix = [\n",
    "    [1, 2, 3],\n",
    "    [4, 5, 6],\n",
    "    [7, 8, 9]\n",
    "]\n",
    "\n",
    "max_element = matrix[0][0]\n",
    "\n",
    "for row in matrix:\n",
    "    for element in row:\n",
    "        if element>max_element:\n",
    "            max_element=element\n",
    "            \n",
    "print(\"Maximum element:\", max_element)"
   ]
  },
  {
   "cell_type": "markdown",
   "id": "95c006df-b455-4a2d-866c-a3092c734464",
   "metadata": {},
   "source": [
    "15. Create a program that removes all occurrences of a specific element from a list using a `for` loop."
   ]
  },
  {
   "cell_type": "code",
   "execution_count": 4,
   "id": "910cba51-f01f-43eb-803b-4f8b00830db9",
   "metadata": {},
   "outputs": [
    {
     "name": "stdout",
     "output_type": "stream",
     "text": [
      "List after removing 3 : [1, 2, 4, 5]\n"
     ]
    }
   ],
   "source": [
    "list = [1,2,3,4,5]\n",
    "\n",
    "element_to_remove=3\n",
    "my_list=[]\n",
    "\n",
    "for i in list:\n",
    "    if i!=element_to_remove:\n",
    "        my_list.append(i)\n",
    "    \n",
    "print(\"List after removing\", element_to_remove, \":\", my_list)"
   ]
  },
  {
   "cell_type": "markdown",
   "id": "8217238e-b36c-4357-bf83-f0ee0b5d62e4",
   "metadata": {},
   "source": [
    "16. Develop a program that generates a multiplication table for numbers from 1 to 5 using a nested `for` loop."
   ]
  },
  {
   "cell_type": "code",
   "execution_count": 5,
   "id": "2ff778a0-acbf-409c-9443-742697f9ecf0",
   "metadata": {},
   "outputs": [
    {
     "name": "stdout",
     "output_type": "stream",
     "text": [
      "1 x 1 = 1\t1 x 2 = 2\t1 x 3 = 3\t1 x 4 = 4\t1 x 5 = 5\t1 x 6 = 6\t1 x 7 = 7\t1 x 8 = 8\t1 x 9 = 9\t1 x 10 = 10\t\n",
      "2 x 1 = 2\t2 x 2 = 4\t2 x 3 = 6\t2 x 4 = 8\t2 x 5 = 10\t2 x 6 = 12\t2 x 7 = 14\t2 x 8 = 16\t2 x 9 = 18\t2 x 10 = 20\t\n",
      "3 x 1 = 3\t3 x 2 = 6\t3 x 3 = 9\t3 x 4 = 12\t3 x 5 = 15\t3 x 6 = 18\t3 x 7 = 21\t3 x 8 = 24\t3 x 9 = 27\t3 x 10 = 30\t\n",
      "4 x 1 = 4\t4 x 2 = 8\t4 x 3 = 12\t4 x 4 = 16\t4 x 5 = 20\t4 x 6 = 24\t4 x 7 = 28\t4 x 8 = 32\t4 x 9 = 36\t4 x 10 = 40\t\n",
      "5 x 1 = 5\t5 x 2 = 10\t5 x 3 = 15\t5 x 4 = 20\t5 x 5 = 25\t5 x 6 = 30\t5 x 7 = 35\t5 x 8 = 40\t5 x 9 = 45\t5 x 10 = 50\t\n"
     ]
    }
   ],
   "source": [
    "for i in range(1, 6):\n",
    "    for j in range(1, 11):\n",
    "        result = i * j\n",
    "        print(f\"{i} x {j} = {result}\", end=\"\\t\")\n",
    "    print()  "
   ]
  },
  {
   "cell_type": "markdown",
   "id": "6b263400-1394-49c6-a6e5-177a482c1841",
   "metadata": {},
   "source": [
    "17. Write a program that converts a list of Fahrenheit temperatures to Celsius using a `for` loop."
   ]
  },
  {
   "cell_type": "code",
   "execution_count": 6,
   "id": "04a207a7-5042-487b-8105-c7d89abf9445",
   "metadata": {},
   "outputs": [
    {
     "name": "stdout",
     "output_type": "stream",
     "text": [
      "Fahrenheit Temperatures: [32, 68, 100, 212]\n",
      "Celsius Temperatures: [0.0, 20.0, 37.77777777777778, 100.0]\n"
     ]
    }
   ],
   "source": [
    "def fahrenheit_to_celsius(fahrenheit):\n",
    "    return (fahrenheit - 32) * 5/9\n",
    "\n",
    "fahrenheit_temperatures = [32, 68, 100, 212]\n",
    "celsius_temperatures = []\n",
    "\n",
    "for temp in fahrenheit_temperatures:\n",
    "    celsius = fahrenheit_to_celsius(temp)\n",
    "    celsius_temperatures.append(celsius)\n",
    "\n",
    "print(\"Fahrenheit Temperatures:\", fahrenheit_temperatures)\n",
    "print(\"Celsius Temperatures:\", celsius_temperatures)"
   ]
  },
  {
   "cell_type": "markdown",
   "id": "9dd6f1ed-96b6-418a-8e43-5df67a57d255",
   "metadata": {},
   "source": [
    "18. Create a program to print the common elements from two lists using a `for` loop."
   ]
  },
  {
   "cell_type": "code",
   "execution_count": 11,
   "id": "0715685d-7d45-4491-8d5e-36c553ce5ccb",
   "metadata": {},
   "outputs": [
    {
     "name": "stdout",
     "output_type": "stream",
     "text": [
      "Common Element: [2, 3, 4]\n"
     ]
    }
   ],
   "source": [
    "list1=[1,2,3,4,5,6]\n",
    "list2=[2,3,4]\n",
    "common=[]\n",
    "\n",
    "for i in list1:\n",
    "    if i in list2:\n",
    "        common.append(i)\n",
    "        \n",
    "print(\"Common Element:\",common)"
   ]
  },
  {
   "cell_type": "markdown",
   "id": "83f52817-9aab-4838-8507-4ceefa76efc3",
   "metadata": {},
   "source": [
    "19. Develop a program that prints the pattern of right-angled triangles using a `for` loop. Use ‘*’ to draw the pattern"
   ]
  },
  {
   "cell_type": "code",
   "execution_count": 18,
   "id": "7949d81d-58d6-481d-8213-98416c793cdc",
   "metadata": {},
   "outputs": [
    {
     "name": "stdout",
     "output_type": "stream",
     "text": [
      "* \n",
      "* * \n",
      "* * * \n",
      "* * * * \n",
      "* * * * * \n"
     ]
    }
   ],
   "source": [
    "for i in range(1,6):\n",
    "    for j in range(i):\n",
    "        print(\"*\",end=' ')\n",
    "    print()"
   ]
  },
  {
   "cell_type": "markdown",
   "id": "293aeb6a-53a5-4b14-b270-b86522bb2e65",
   "metadata": {},
   "source": [
    " 20. Write a program to find the greatest common divisor (GCD) of two numbers using a `for` loop."
   ]
  },
  {
   "cell_type": "code",
   "execution_count": 19,
   "id": "20b06c01-9148-4785-9ddb-37663a597938",
   "metadata": {},
   "outputs": [
    {
     "name": "stdout",
     "output_type": "stream",
     "text": [
      "GCD of 36 and 48 is 12\n"
     ]
    }
   ],
   "source": [
    "num1 = 36\n",
    "num2 = 48\n",
    "\n",
    "def find_gcd(x, y):\n",
    "    while y != 0:\n",
    "        x, y = y, x % y\n",
    "    return x\n",
    "\n",
    "gcd = find_gcd(num1, num2)\n",
    "print(\"GCD of\", num1, \"and\", num2, \"is\", gcd)"
   ]
  },
  {
   "cell_type": "markdown",
   "id": "4b379482-be02-4a5a-9167-6dbce796b1ef",
   "metadata": {},
   "source": [
    "Advanced Level:"
   ]
  },
  {
   "cell_type": "markdown",
   "id": "415a8cfe-95e2-49a0-a238-1c5acccaaca3",
   "metadata": {},
   "source": [
    "21. Create a program that calculates the sum of the digits of numbers in a list using a list comprehension."
   ]
  },
  {
   "cell_type": "code",
   "execution_count": 25,
   "id": "05cb45a9-f173-4c1e-a454-10cc7a03c3e7",
   "metadata": {},
   "outputs": [
    {
     "name": "stdout",
     "output_type": "stream",
     "text": [
      "45\n"
     ]
    }
   ],
   "source": [
    "list = [1,2,3,4,5,6,7,8,9]\n",
    "\n",
    "total=0\n",
    "\n",
    "int_logic=[total:= total+i for i in list]\n",
    "\n",
    "print(total)"
   ]
  },
  {
   "cell_type": "markdown",
   "id": "526f6280-6334-4fb7-b3b6-6ec09cb22295",
   "metadata": {},
   "source": [
    "22. Write a program to find the prime factors of a given number using a `for` loop and list comprehension"
   ]
  },
  {
   "cell_type": "code",
   "execution_count": 29,
   "id": "6483fab9-511d-4cf1-b5bc-fa86aaa43030",
   "metadata": {},
   "outputs": [
    {
     "name": "stdout",
     "output_type": "stream",
     "text": [
      "Prime factors of 49 are: [7]\n"
     ]
    }
   ],
   "source": [
    "num = 49\n",
    "\n",
    "def is_prime(x):\n",
    "    if x <= 1:\n",
    "        return False\n",
    "    for i in range(2, int(x**0.5) + 1):\n",
    "        if x % i == 0:\n",
    "            return False\n",
    "    return True\n",
    "\n",
    "prime_factors = [factor for factor in range(2, num + 1) if num % factor == 0 and is_prime(factor)]\n",
    "\n",
    "print(\"Prime factors of\", num, \"are:\", prime_factors)"
   ]
  },
  {
   "cell_type": "markdown",
   "id": "2b6500d0-1482-4e4d-83ed-a80d2038ca49",
   "metadata": {},
   "source": [
    "23. Develop a program that extracts unique elements from a list and stores them in a new list using a list comprehension."
   ]
  },
  {
   "cell_type": "code",
   "execution_count": 45,
   "id": "5def44b0-6832-4944-a599-c2fda824973a",
   "metadata": {},
   "outputs": [
    {
     "name": "stdout",
     "output_type": "stream",
     "text": [
      "Unique Elements: [1, 2, 3, 4, 5]\n"
     ]
    }
   ],
   "source": [
    "original_list = [1, 2, 2, 3, 4, 4, 5, 5]\n",
    "unique_elements = [x for i, x in enumerate(original_list) if x not in original_list[:i]]\n",
    "print(\"Unique Elements:\", unique_elements)"
   ]
  },
  {
   "cell_type": "markdown",
   "id": "63040ad3-1f30-4ddd-9441-234371ce6ee8",
   "metadata": {},
   "source": [
    "24. Create a program that generates a list of all palindromic numbers up to a specified limit using a list comprehension."
   ]
  },
  {
   "cell_type": "code",
   "execution_count": 46,
   "id": "0eaf802e-99eb-4069-af2e-d590b2515fec",
   "metadata": {},
   "outputs": [
    {
     "name": "stdout",
     "output_type": "stream",
     "text": [
      "Palindromic numbers up to 100 are: [1, 2, 3, 4, 5, 6, 7, 8, 9, 11, 22, 33, 44, 55, 66, 77, 88, 99]\n"
     ]
    }
   ],
   "source": [
    "limit = 100\n",
    "\n",
    "palindromic_numbers = [num for num in range(1, limit + 1) if str(num) == str(num)[::-1]]\n",
    "\n",
    "print(\"Palindromic numbers up to\", limit, \"are:\", palindromic_numbers)"
   ]
  },
  {
   "cell_type": "markdown",
   "id": "3655818f-9526-48a8-b67f-12a50c941d9f",
   "metadata": {},
   "source": [
    "25. Write a program to flatten a nested list using list comprehension."
   ]
  },
  {
   "cell_type": "code",
   "execution_count": 48,
   "id": "4664766c-b86b-45d8-89d1-adfc11aaa20f",
   "metadata": {},
   "outputs": [
    {
     "name": "stdout",
     "output_type": "stream",
     "text": [
      "Flattened list: [1, 2, 3, 4, 5, 6, 7, 8]\n"
     ]
    }
   ],
   "source": [
    "nested_list = [[1, 2, 3], [4, 5], [6, 7, 8]]\n",
    "\n",
    "flattened_list = [element for sublist in nested_list for element in sublist]\n",
    "\n",
    "print(\"Flattened list:\", flattened_list)"
   ]
  },
  {
   "cell_type": "markdown",
   "id": "13ff2155-4a77-4c2e-88e6-30ae32976ec7",
   "metadata": {},
   "source": [
    "26. Develop a program that computes the sum of even and odd numbers in a list separately using list comprehension."
   ]
  },
  {
   "cell_type": "code",
   "execution_count": 53,
   "id": "d5735c5d-9ef1-4d4c-a902-9c8a6f6c23a7",
   "metadata": {},
   "outputs": [
    {
     "name": "stdout",
     "output_type": "stream",
     "text": [
      "Sum of even Number: 20\n",
      "Sum of odd Number: 25\n"
     ]
    }
   ],
   "source": [
    "list = [1,2,3,4,5,6,7,8,9]\n",
    "\n",
    "even_list = sum(num for num in list if num%2==0)\n",
    "odd_list = sum(num for num in list if num%2!=0)\n",
    "\n",
    "print(\"Sum of even Number:\",even_list)\n",
    "print(\"Sum of odd Number:\", odd_list)\n",
    "\n"
   ]
  },
  {
   "cell_type": "markdown",
   "id": "c79271e3-58c3-4ade-a0e2-eaa588e9862d",
   "metadata": {},
   "source": [
    "27. Create a program that generates a list of squares of odd numbers between 1 and 10 using list comprehension."
   ]
  },
  {
   "cell_type": "code",
   "execution_count": 56,
   "id": "c26cb819-d3eb-403a-b888-bb2c96c9d985",
   "metadata": {},
   "outputs": [
    {
     "name": "stdout",
     "output_type": "stream",
     "text": [
      "List of square of odd numbers: [1, 9, 25, 49, 81]\n"
     ]
    }
   ],
   "source": [
    "square_list = [num ** 2 for num in range(1,11) if num%2!=0]\n",
    "\n",
    "print(\"List of square of odd numbers:\",square_list)"
   ]
  },
  {
   "cell_type": "markdown",
   "id": "f604a45b-3557-4414-9dd1-8fefce12222f",
   "metadata": {},
   "source": [
    "28. Write a program that combines two lists into a dictionary using list comprehension."
   ]
  },
  {
   "cell_type": "code",
   "execution_count": 57,
   "id": "7a74148f-75c9-4c55-94f8-b86f8b58244e",
   "metadata": {},
   "outputs": [
    {
     "name": "stdout",
     "output_type": "stream",
     "text": [
      "{1: 'python', 2: 'c', 3: 'c++'}\n"
     ]
    }
   ],
   "source": [
    "index = [1, 2, 3]\n",
    "languages = ['python', 'c', 'c++']\n",
    "\n",
    "dictionary = {k: v for k, v in zip(index, languages)}\n",
    "print(dictionary)"
   ]
  },
  {
   "cell_type": "markdown",
   "id": "07a6ca73-0af1-4482-a02b-c04afcae312b",
   "metadata": {},
   "source": [
    "29. Develop a program that extracts the vowels from a string and stores them in a list using list comprehension"
   ]
  },
  {
   "cell_type": "code",
   "execution_count": 1,
   "id": "38a13572-c003-4bd3-973b-ad6bc152f95e",
   "metadata": {},
   "outputs": [
    {
     "name": "stdout",
     "output_type": "stream",
     "text": [
      "Vowels: ['e', 'o', 'o']\n"
     ]
    }
   ],
   "source": [
    "text = \"Hello, World!\"\n",
    "\n",
    "vowels = [char for char in text if char.lower() in 'aeiou']\n",
    "\n",
    "print(\"Vowels:\", vowels)"
   ]
  },
  {
   "cell_type": "markdown",
   "id": "7178ea05-b2e6-4ae1-be83-a79bc21c5ee2",
   "metadata": {},
   "source": [
    "30. Create a program that removes all non-numeric characters from a list of strings using list comprehension."
   ]
  },
  {
   "cell_type": "code",
   "execution_count": 2,
   "id": "bd1439e3-a68e-44a8-a0d0-92371ca7c517",
   "metadata": {},
   "outputs": [
    {
     "name": "stdout",
     "output_type": "stream",
     "text": [
      "Numeric strings: [123, 456, 789, 123]\n"
     ]
    }
   ],
   "source": [
    "strings = [\"abc123\", \"def456\", \"xyz789\", \"123abc\"]\n",
    "\n",
    "numeric_strings = [int(''.join(char for char in string if char.isnumeric())) for string in strings]\n",
    "\n",
    "print(\"Numeric strings:\", numeric_strings)"
   ]
  },
  {
   "cell_type": "markdown",
   "id": "6f133c63-98e0-4859-9d06-a0697504952a",
   "metadata": {},
   "source": [
    "Challenge Level:"
   ]
  },
  {
   "cell_type": "markdown",
   "id": "c00f98f1-13c8-467d-9268-59f46ddd52bf",
   "metadata": {},
   "source": [
    "31. Write a program to generate a list of prime numbers using the Sieve of Eratosthenes algorithm and list comprehension."
   ]
  },
  {
   "cell_type": "code",
   "execution_count": 3,
   "id": "84dd40e2-49ff-4b3e-adb0-b88d8af3d738",
   "metadata": {},
   "outputs": [
    {
     "name": "stdout",
     "output_type": "stream",
     "text": [
      "Prime Numbers: [2, 3, 5, 7, 11, 13, 17, 19, 23, 29]\n"
     ]
    }
   ],
   "source": [
    "limit = 30\n",
    "\n",
    "def sieve_eratosthenes(n):\n",
    "    sieve = [True] * (n + 1)\n",
    "    sieve[0] = sieve[1] = False\n",
    "    for current in range(2, int(n ** 0.5) + 1):\n",
    "        if sieve[current]:\n",
    "            for multiple in range(current * current, n + 1, current):\n",
    "                sieve[multiple] = False\n",
    "    primes = [num for num in range(2, n + 1) if sieve[num]]\n",
    "    return primes\n",
    "\n",
    "\n",
    "prime_numbers = sieve_eratosthenes(limit)\n",
    "print(\"Prime Numbers:\", prime_numbers)"
   ]
  },
  {
   "cell_type": "markdown",
   "id": "35087181-8440-4631-964d-a61dbd4c0644",
   "metadata": {},
   "source": [
    "32. Create a program that generates a list of all Pythagorean triplets up to a specified limit using list comprehension"
   ]
  },
  {
   "cell_type": "code",
   "execution_count": 5,
   "id": "bdbaa4c7-0968-4c67-95d1-f2197c0d019f",
   "metadata": {},
   "outputs": [
    {
     "name": "stdout",
     "output_type": "stream",
     "text": [
      "Pythagorean Triplets: (3, 4, 5) (5, 12, 13) (6, 8, 10) (7, 24, 25) (8, 15, 17) (9, 12, 15) (10, 24, 26) (12, 16, 20) (15, 20, 25) (20, 21, 29)\n"
     ]
    }
   ],
   "source": [
    "limit = 30\n",
    "pythagorean_triplets = [(a, b, c) for a in range(1, limit) for b in range(a, limit) for c in range(b, limit) if a**2 + b**2 == c**2]\n",
    "print(\"Pythagorean Triplets:\", *pythagorean_triplets)"
   ]
  },
  {
   "cell_type": "markdown",
   "id": "d58fa694-5c0c-4e9b-8b0e-dcdcec114c1b",
   "metadata": {},
   "source": [
    "33. Develop a program that generates a list of all possible combinations of two lists using list comprehension"
   ]
  },
  {
   "cell_type": "code",
   "execution_count": 6,
   "id": "b621593e-1e00-4159-93a0-1f7c3d12b6a1",
   "metadata": {},
   "outputs": [
    {
     "name": "stdout",
     "output_type": "stream",
     "text": [
      "Combinations: [(1, 'a'), (1, 'b'), (1, 'c'), (1, 'd'), (2, 'a'), (2, 'b'), (2, 'c'), (2, 'd'), (3, 'a'), (3, 'b'), (3, 'c'), (3, 'd'), (4, 'a'), (4, 'b'), (4, 'c'), (4, 'd')]\n"
     ]
    }
   ],
   "source": [
    "list1 = [1, 2, 3, 4]\n",
    "list2 = ['a', 'b', 'c', 'd']\n",
    "\n",
    "\n",
    "combinations = [(x, y) for x in list1 for y in list2]\n",
    "\n",
    "print(\"Combinations:\", combinations)"
   ]
  },
  {
   "cell_type": "markdown",
   "id": "b642ba82-31ec-4db4-9a05-666ae0a178bc",
   "metadata": {},
   "source": [
    "34. Write a program that calculates the mean, median, and mode of a list of numbers using list comprehension."
   ]
  },
  {
   "cell_type": "code",
   "execution_count": 7,
   "id": "7cecd68b-4464-4c31-8a75-cbf507454972",
   "metadata": {},
   "outputs": [
    {
     "name": "stdout",
     "output_type": "stream",
     "text": [
      "Mean: 5.181818181818182\n",
      "Median: 5\n",
      "Mode: 3\n"
     ]
    }
   ],
   "source": [
    "import statistics\n",
    "\n",
    "numbers = [2, 3, 3, 4, 4, 5, 5, 7, 7, 8, 9]\n",
    "\n",
    "mean = sum(numbers) / len(numbers)\n",
    "median = statistics.median(numbers)\n",
    "mode = statistics.mode(numbers)\n",
    "\n",
    "print(\"Mean:\", mean)\n",
    "print(\"Median:\", median)\n",
    "print(\"Mode:\", mode)"
   ]
  },
  {
   "cell_type": "markdown",
   "id": "aae06511-e4fb-4752-974c-5e0008d21ba0",
   "metadata": {},
   "source": [
    "35. Create a program that generates Pascal's triangle up to a specified number of rows using list comprehension."
   ]
  },
  {
   "cell_type": "code",
   "execution_count": 12,
   "id": "28a3da2c-5a88-4b36-a731-1b8df57e3a32",
   "metadata": {},
   "outputs": [
    {
     "name": "stdout",
     "output_type": "stream",
     "text": [
      "Pascal Triangle: \n",
      "[1]\n",
      "[1, 1]\n",
      "[1, 2, 1]\n",
      "[1, 3, 3, 1]\n",
      "[1, 4, 6, 4, 1]\n",
      "[1, 5, 10, 10, 5, 1]\n",
      "[1, 6, 15, 20, 15, 6, 1]\n",
      "[1, 7, 21, 35, 35, 21, 7, 1]\n"
     ]
    }
   ],
   "source": [
    "num_rows = 8\n",
    "\n",
    "pas_triangle = [[1]]\n",
    "\n",
    "[pas_triangle.append([1] + [pas_triangle[i - 1][j - 1] + pas_triangle[i - 1][j] for j in range(1, i)] + [1]) for i in range(1, num_rows)]\n",
    "\n",
    "print(\"Pascal Triangle: \")\n",
    "for row in pas_triangle:\n",
    "    print(row)"
   ]
  },
  {
   "cell_type": "markdown",
   "id": "02f6797c-a427-4b4a-bf66-815ccdbfac73",
   "metadata": {},
   "source": [
    "36. Develop a program that calculates the sum of the digits of a factorial of numbers from 1 to 5 using list comprehension."
   ]
  },
  {
   "cell_type": "code",
   "execution_count": 14,
   "id": "2adbac54-1ae8-4911-b9e7-386190d49398",
   "metadata": {},
   "outputs": [
    {
     "name": "stdout",
     "output_type": "stream",
     "text": [
      "Sum of digits of a factorial : [1, 2, 6, 6, 3]\n"
     ]
    }
   ],
   "source": [
    "int_num = [1, 2, 3, 4, 5]\n",
    "\n",
    "# Function to calculate the factorial of a number\n",
    "def factorial(n):\n",
    "    if n == 0:\n",
    "        return 1\n",
    "    return n * factorial(n - 1)\n",
    "\n",
    "# Use list comprehension to calculate the sum of digits of factorials\n",
    "sums_of_digits = [sum(int(digit) for digit in str(factorial(num))) for num in int_num]\n",
    "\n",
    "print(\"Sum of digits of a factorial :\", sums_of_digits)"
   ]
  },
  {
   "cell_type": "markdown",
   "id": "91d9c87a-e045-455a-84ba-1b465c2b9a45",
   "metadata": {},
   "source": [
    "37. Write a program that finds the longest word in a sentence using list comprehension."
   ]
  },
  {
   "cell_type": "code",
   "execution_count": 15,
   "id": "f315cc22-abdd-4c75-9e6e-20ca57e639a4",
   "metadata": {},
   "outputs": [
    {
     "name": "stdout",
     "output_type": "stream",
     "text": [
      "Longest word: comprehension.\n"
     ]
    }
   ],
   "source": [
    "sentence = \"Write a program that finds the longest word in a sentence using list comprehension.\"\n",
    "\n",
    "longest_word = max([word for word in sentence.split()], key=len)\n",
    "\n",
    "print(\"Longest word:\", longest_word)"
   ]
  },
  {
   "cell_type": "markdown",
   "id": "961a1de8-9f50-4d2e-973f-999527f3e077",
   "metadata": {},
   "source": [
    "38. Create a program that filters a list of strings to include only those with more than three vowels using list comprehension."
   ]
  },
  {
   "cell_type": "code",
   "execution_count": 18,
   "id": "eb4ef8af-951f-4784-8ad3-3484cb6fddda",
   "metadata": {},
   "outputs": [
    {
     "name": "stdout",
     "output_type": "stream",
     "text": [
      "String with more than 3 vowel: []\n"
     ]
    }
   ],
   "source": [
    "strings = [\"hello\", \"world\",\"python\",\"programming\",\"algorithm\"]\n",
    "\n",
    "# Function to count vowels in a string\n",
    "def count_vowels(string):\n",
    "    return sum(1 for char in string if char.lower() in 'aeiou')\n",
    "\n",
    "# Use list comprehension to filter strings with more than three vowels\n",
    "filtered_strings = [string for string in strings if count_vowels(string) > 3]\n",
    "\n",
    "print(\"String with more than 3 vowel:\", filtered_strings)"
   ]
  },
  {
   "cell_type": "markdown",
   "id": "6e795834-8e47-43bd-83e3-e396d9ed35f0",
   "metadata": {},
   "source": [
    "39. Develop a program that calculates the sum of the digits of numbers from 1 to 1000 using list comprehension."
   ]
  },
  {
   "cell_type": "code",
   "execution_count": 19,
   "id": "b77e6c33-29d7-43e8-b09f-33f294a8170d",
   "metadata": {},
   "outputs": [
    {
     "name": "stdout",
     "output_type": "stream",
     "text": [
      "Total Sum of Digits: 13501\n"
     ]
    }
   ],
   "source": [
    "def sum_of_digits(n):\n",
    "    return sum(map(int, str(n)))\n",
    "\n",
    "results = [sum_of_digits(num) for num in range(1, 1001)]\n",
    "total_sum = sum(results)\n",
    "print(\"Total Sum of Digits:\", total_sum)"
   ]
  },
  {
   "cell_type": "markdown",
   "id": "27420a31-f8e5-49dd-97b2-0e2e26758427",
   "metadata": {},
   "source": [
    "40. Write a program that generates a list of prime palindromic numbers using list comprehension."
   ]
  },
  {
   "cell_type": "code",
   "execution_count": 27,
   "id": "fa85c600-8a05-4b73-a6fa-ed11a74fb54a",
   "metadata": {},
   "outputs": [
    {
     "name": "stdout",
     "output_type": "stream",
     "text": [
      "Prime Palindromic Numbers: [2, 3, 5, 7, 11, 101, 131, 151, 181, 191, 313, 353, 373, 383]\n"
     ]
    }
   ],
   "source": [
    "def is_prime(num):\n",
    "    if num <= 1:\n",
    "        return False\n",
    "    for i in range(2, int(num ** 0.5) + 1):\n",
    "        if num % i == 0:\n",
    "            return False\n",
    "    return True\n",
    "\n",
    "def is_palindrome(num):\n",
    "    return str(num) == str(num)[::-1]\n",
    "\n",
    "\n",
    "prime_palindromes = [num for num in range(2, 550) if is_prime(num) and is_palindrome(num)]\n",
    "print(\"Prime Palindromic Numbers:\", prime_palindromes)"
   ]
  },
  {
   "cell_type": "code",
   "execution_count": null,
   "id": "5c3bc374-d267-45db-baf6-d3b4aebbafb7",
   "metadata": {},
   "outputs": [],
   "source": []
  }
 ],
 "metadata": {
  "kernelspec": {
   "display_name": "Python 3 (ipykernel)",
   "language": "python",
   "name": "python3"
  },
  "language_info": {
   "codemirror_mode": {
    "name": "ipython",
    "version": 3
   },
   "file_extension": ".py",
   "mimetype": "text/x-python",
   "name": "python",
   "nbconvert_exporter": "python",
   "pygments_lexer": "ipython3",
   "version": "3.10.8"
  }
 },
 "nbformat": 4,
 "nbformat_minor": 5
}
