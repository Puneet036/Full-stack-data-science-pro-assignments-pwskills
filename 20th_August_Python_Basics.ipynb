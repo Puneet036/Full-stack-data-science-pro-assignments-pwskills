{
 "cells": [
  {
   "cell_type": "markdown",
   "id": "7ab71415-b192-485a-acdf-6a6a9c22a493",
   "metadata": {},
   "source": [
    "TOPIC: String Based Assignment Problem"
   ]
  },
  {
   "cell_type": "markdown",
   "id": "f3c8fda2-c3ce-4c44-9721-ae92eee5a070",
   "metadata": {},
   "source": [
    "1. Write a program to reverse a string."
   ]
  },
  {
   "cell_type": "code",
   "execution_count": 2,
   "id": "60cb2480-b05a-4cb5-b50a-43bd6c46f8c4",
   "metadata": {},
   "outputs": [
    {
     "name": "stdin",
     "output_type": "stream",
     "text": [
      "Enter a String :  Puneet\n"
     ]
    },
    {
     "name": "stdout",
     "output_type": "stream",
     "text": [
      "Reversed String :  teenuP\n"
     ]
    }
   ],
   "source": [
    "int_string = input(\"Enter a String : \")\n",
    "\n",
    "rev_string = int_string[::-1]\n",
    "\n",
    "print(\"Reversed String : \", rev_string)"
   ]
  },
  {
   "cell_type": "markdown",
   "id": "0acafc3a-f4bd-460e-be56-0dcb6f6f3a42",
   "metadata": {},
   "source": [
    "2. Check if a string is a palindrome."
   ]
  },
  {
   "cell_type": "code",
   "execution_count": 1,
   "id": "83524ba7-fbb2-4b6a-bb30-9fe3874c98c7",
   "metadata": {},
   "outputs": [
    {
     "name": "stdin",
     "output_type": "stream",
     "text": [
      "Enter a String :  Mom\n"
     ]
    },
    {
     "name": "stdout",
     "output_type": "stream",
     "text": [
      "Entered String is Palindrome\n"
     ]
    }
   ],
   "source": [
    "int_string = input(\"Enter a String : \")\n",
    "\n",
    "lowercase_str = int_string.lower()\n",
    "\n",
    "if lowercase_str == lowercase_str[::-1]:\n",
    "    print(\"Entered String is Palindrome\")   \n",
    "else:\n",
    "    print(\"Entered String is not a Palindrome\")"
   ]
  },
  {
   "cell_type": "markdown",
   "id": "19664e99-3a5e-4bc8-b9c7-fc52974b837a",
   "metadata": {},
   "source": [
    "3. Convert a string to uppercase."
   ]
  },
  {
   "cell_type": "code",
   "execution_count": 6,
   "id": "e53cb9ed-4121-4cd9-af35-2665e6594c4f",
   "metadata": {},
   "outputs": [
    {
     "name": "stdout",
     "output_type": "stream",
     "text": [
      "Uppercase :  ENTER A STRING\n"
     ]
    }
   ],
   "source": [
    "int_string = \"Enter a String\"\n",
    "\n",
    "uppercase = int_string.upper()\n",
    "\n",
    "print(\"Uppercase : \", uppercase)"
   ]
  },
  {
   "cell_type": "markdown",
   "id": "ba043692-6ed2-4ec3-9060-eb917e901b39",
   "metadata": {},
   "source": [
    "4. Convert a string to lowercase."
   ]
  },
  {
   "cell_type": "code",
   "execution_count": 11,
   "id": "ff943494-7611-4d9a-bbbb-0f52189eceb0",
   "metadata": {},
   "outputs": [
    {
     "name": "stdout",
     "output_type": "stream",
     "text": [
      "Lowercase :  enter a string\n"
     ]
    }
   ],
   "source": [
    "int_string = \"Enter a String\"\n",
    "\n",
    "lowercase = int_string.lower()\n",
    "\n",
    "print(\"Lowercase : \", lowercase)"
   ]
  },
  {
   "cell_type": "markdown",
   "id": "905af2b4-a29f-417d-919b-b79c2232cb8c",
   "metadata": {},
   "source": [
    "5. Count the number of vowels in a string"
   ]
  },
  {
   "cell_type": "code",
   "execution_count": 12,
   "id": "b112c723-a445-4679-aac9-20e6117129b9",
   "metadata": {},
   "outputs": [
    {
     "name": "stdin",
     "output_type": "stream",
     "text": [
      "Enter a sentence :  My name is Puneet\n"
     ]
    },
    {
     "name": "stdout",
     "output_type": "stream",
     "text": [
      "Entered sentence : 'My name is Puneet' has 6 vowels.\n"
     ]
    }
   ],
   "source": [
    "int_string = input(\"Enter a sentence : \")\n",
    "\n",
    "vowels = \"aeiou\"\n",
    "count = 0\n",
    "\n",
    "for chr in int_string:\n",
    "    lowercase = chr.lower()\n",
    "    \n",
    "    if lowercase in vowels:\n",
    "        count+=1\n",
    "        \n",
    "print(f\"Entered sentence : '{int_string}' has {count} vowels.\")"
   ]
  },
  {
   "cell_type": "markdown",
   "id": "9029b4d9-6207-400e-8f41-8b7bd4c8b726",
   "metadata": {},
   "source": [
    "6. Count the number of consonants in a string."
   ]
  },
  {
   "cell_type": "code",
   "execution_count": 14,
   "id": "f19a5623-ec97-42f0-8cd6-f17b2b283ab0",
   "metadata": {},
   "outputs": [
    {
     "name": "stdout",
     "output_type": "stream",
     "text": [
      "There are 9 consonant(s) in entered string 'This is a string'.\n"
     ]
    }
   ],
   "source": [
    "input_string = 'This is a string'\n",
    "\n",
    "cleaned_str = ''.join(input_string.split()).lower()\n",
    "\n",
    "vowels_string = \"aeiou\"\n",
    "\n",
    "count = 0\n",
    "\n",
    "for chr in cleaned_str:\n",
    "\n",
    "    if chr not in vowels_string:\n",
    "        count = count + 1\n",
    "\n",
    "print(f\"There are {count} consonant(s) in entered string '{input_string}'.\")"
   ]
  },
  {
   "cell_type": "markdown",
   "id": "f425f27f-c6e4-4db6-8765-896514e494b0",
   "metadata": {},
   "source": [
    "7. Remove all whitespaces from a string."
   ]
  },
  {
   "cell_type": "code",
   "execution_count": 16,
   "id": "fc603838-67e7-4695-affc-3d5164785dd3",
   "metadata": {},
   "outputs": [
    {
     "name": "stdin",
     "output_type": "stream",
     "text": [
      "Enter a String :  Hello my name is puneet\n"
     ]
    },
    {
     "name": "stdout",
     "output_type": "stream",
     "text": [
      "Modified String :  Hellomynameispuneet\n"
     ]
    }
   ],
   "source": [
    "int_string = input(\"Enter a String : \")\n",
    "\n",
    "mofified_str = int_string.replace(\" \" ,\"\")\n",
    "\n",
    "print(\"Modified String : \", mofified_str)"
   ]
  },
  {
   "cell_type": "markdown",
   "id": "47369e77-1f5b-49ec-8bd7-8073343fad0e",
   "metadata": {},
   "source": [
    "8. Find the length of a string without using the `len()` function."
   ]
  },
  {
   "cell_type": "code",
   "execution_count": 17,
   "id": "df185ee0-513f-4dd2-82c9-9f47547046d6",
   "metadata": {},
   "outputs": [
    {
     "name": "stdout",
     "output_type": "stream",
     "text": [
      "Length of the string :  31\n"
     ]
    }
   ],
   "source": [
    "string = \"Hello i am learing data science\"\n",
    "count=0\n",
    "for chr in string:\n",
    "    count+=1\n",
    "    \n",
    "print(\"Length of the string : \", count)    \n",
    "    "
   ]
  },
  {
   "cell_type": "markdown",
   "id": "17730f06-457c-455c-a972-ed74f6e2d724",
   "metadata": {},
   "source": [
    "9. Check if a string contains a specific word."
   ]
  },
  {
   "cell_type": "code",
   "execution_count": 18,
   "id": "e0d06ab8-0b27-4fc7-bc72-618f8600c123",
   "metadata": {},
   "outputs": [
    {
     "name": "stdin",
     "output_type": "stream",
     "text": [
      "Enter a string :  Hello i am good\n",
      "Enter a word to check :  am\n"
     ]
    },
    {
     "name": "stdout",
     "output_type": "stream",
     "text": [
      "String contains the specific word\n"
     ]
    }
   ],
   "source": [
    "int_string = input(\"Enter a string : \")\n",
    "spec_word = input(\"Enter a word to check : \")\n",
    "\n",
    "if spec_word in int_string:\n",
    "    print(\"String contains the specific word\")\n",
    "else:\n",
    "    print(\"String does'nt contain the specfic word\")\n",
    "\n"
   ]
  },
  {
   "cell_type": "markdown",
   "id": "bc3f9817-23d3-4f04-987a-221aebc1b633",
   "metadata": {},
   "source": [
    "10. Replace a word in a string with another word."
   ]
  },
  {
   "cell_type": "code",
   "execution_count": 20,
   "id": "e3191ad3-ef7b-4280-8f4f-2ba072f321ec",
   "metadata": {},
   "outputs": [
    {
     "name": "stdin",
     "output_type": "stream",
     "text": [
      "Enter a string :  Hello i am good\n",
      "Enter a word to replace :  good\n",
      "Enter a new word :  fine\n"
     ]
    },
    {
     "name": "stdout",
     "output_type": "stream",
     "text": [
      "New String :  Hello i am fine\n"
     ]
    }
   ],
   "source": [
    "int_string = input(\"Enter a string : \")\n",
    "spec_word = input(\"Enter a word to replace : \")\n",
    "word = input(\"Enter a new word : \")\n",
    "\n",
    "new_string = int_string.replace(spec_word,word)\n",
    "\n",
    "print(\"New String : \",new_string)"
   ]
  },
  {
   "cell_type": "markdown",
   "id": "e9ead658-3014-4753-a80a-96a11a7e65e7",
   "metadata": {},
   "source": [
    "11. Count the occurrences of a word in a string."
   ]
  },
  {
   "cell_type": "code",
   "execution_count": 27,
   "id": "db30b7c1-57d6-42bb-806c-c34527a38f2c",
   "metadata": {},
   "outputs": [
    {
     "name": "stdout",
     "output_type": "stream",
     "text": [
      "The word occured 3 times\n"
     ]
    }
   ],
   "source": [
    "string = \"This is a sample text. This text contains the word 'text' multiple times.\"\n",
    "\n",
    "word = \"text\"\n",
    "\n",
    "count = string.count(word)\n",
    "\n",
    "print(\"The word occured\", count ,\"times\")"
   ]
  },
  {
   "cell_type": "markdown",
   "id": "e458fff3-0fd0-46c6-ab68-bf9c9e456a37",
   "metadata": {},
   "source": [
    "12. Find the first occurrence of a word in a string."
   ]
  },
  {
   "cell_type": "code",
   "execution_count": 34,
   "id": "871e611d-cb18-4957-b539-2ed04336083d",
   "metadata": {},
   "outputs": [
    {
     "name": "stdout",
     "output_type": "stream",
     "text": [
      "first occurrence of a word in a string is in index :  17\n"
     ]
    }
   ],
   "source": [
    "string = \"This is a sample text. This text contains the word 'text' multiple times.\"\n",
    "\n",
    "word = \"text\"\n",
    "\n",
    "count = string.find(word)\n",
    "\n",
    "print(\"first occurrence of a word in a string is in index : \",count)"
   ]
  },
  {
   "cell_type": "markdown",
   "id": "a69c4026-6174-4533-a742-9e73c1c8c0a5",
   "metadata": {},
   "source": [
    "13. Find the last occurrence of a word in a string."
   ]
  },
  {
   "cell_type": "code",
   "execution_count": 35,
   "id": "267c44f6-877a-49fa-82c0-9729625a796e",
   "metadata": {},
   "outputs": [
    {
     "name": "stdout",
     "output_type": "stream",
     "text": [
      "last occurrence of a word in a string is in index :  52\n"
     ]
    }
   ],
   "source": [
    "string = \"This is a sample text. This text contains the word 'text' multiple times.\"\n",
    "\n",
    "word = \"text\"\n",
    "\n",
    "count = string.rfind(word)\n",
    "\n",
    "print(\"last occurrence of a word in a string is in index : \",count)"
   ]
  },
  {
   "cell_type": "markdown",
   "id": "3fdfd0f7-6200-4d73-a4fe-7d9fc41f0d32",
   "metadata": {},
   "source": [
    "14. Split a string into a list of words."
   ]
  },
  {
   "cell_type": "code",
   "execution_count": 36,
   "id": "105b97f7-e32c-4414-9d59-e20f712f5a38",
   "metadata": {},
   "outputs": [
    {
     "name": "stdout",
     "output_type": "stream",
     "text": [
      "['This', 'is', 'a', 'sample', 'text.', 'This', 'text', 'contains', 'the', 'word', \"'text'\", 'multiple', 'times.']\n"
     ]
    }
   ],
   "source": [
    "string = \"This is a sample text. This text contains the word 'text' multiple times.\"\n",
    "\n",
    "word = string.split()\n",
    "\n",
    "print(word)"
   ]
  },
  {
   "cell_type": "markdown",
   "id": "7d4d8ae8-1d24-4140-b523-191445bd814e",
   "metadata": {},
   "source": [
    "15. Join a list of words into a string."
   ]
  },
  {
   "cell_type": "code",
   "execution_count": 38,
   "id": "758a4f93-eed6-4819-92f7-92c17765b38f",
   "metadata": {},
   "outputs": [
    {
     "name": "stdout",
     "output_type": "stream",
     "text": [
      "This is a sample text. This text contains the word 'text' multiple times.\n"
     ]
    }
   ],
   "source": [
    "word = ['This', 'is', 'a', 'sample', 'text.', 'This', 'text', 'contains', 'the', 'word', \"'text'\", 'multiple', 'times.']\n",
    "\n",
    "string = ' '.join(word)\n",
    "\n",
    "print(string)"
   ]
  },
  {
   "cell_type": "markdown",
   "id": "a7904ab0-adf9-4dcd-a741-79444b6d1881",
   "metadata": {},
   "source": [
    "16. Convert a string where words are separated by spaces to one where words are separated by underscores."
   ]
  },
  {
   "cell_type": "code",
   "execution_count": 41,
   "id": "cee2f4d7-9e4f-42d5-a6be-379c8ae8d197",
   "metadata": {},
   "outputs": [
    {
     "name": "stdout",
     "output_type": "stream",
     "text": [
      "This_is_a_sample_text_This_text_contains_the_word_'text'_multiple_times.\n"
     ]
    }
   ],
   "source": [
    "string = \"This is a sample text This text contains the word 'text' multiple times.\"\n",
    "\n",
    "word = string.replace(' ',\"_\")\n",
    "\n",
    "print(word)"
   ]
  },
  {
   "cell_type": "markdown",
   "id": "0c9063c9-5e3d-4ad1-a31b-91f7089a4f1a",
   "metadata": {},
   "source": [
    "17. Check if a string starts with a specific word or phrase."
   ]
  },
  {
   "cell_type": "code",
   "execution_count": 4,
   "id": "0cdc204c-ee26-453c-b961-61f570bdaf8c",
   "metadata": {},
   "outputs": [
    {
     "name": "stdout",
     "output_type": "stream",
     "text": [
      "True\n"
     ]
    }
   ],
   "source": [
    "string = \"This is a sample text \"\n",
    "\n",
    "word = \"This\"\n",
    "\n",
    "check_str = string.startswith(word)\n",
    "\n",
    "print(check_str)"
   ]
  },
  {
   "cell_type": "markdown",
   "id": "951fd1b1-758c-40d9-8dc5-0d5fda3fa922",
   "metadata": {},
   "source": [
    "18. Check if a string ends with a specific word or phrase."
   ]
  },
  {
   "cell_type": "code",
   "execution_count": 5,
   "id": "b7051dd0-4477-4aab-b4fa-476eb85ad1c5",
   "metadata": {},
   "outputs": [
    {
     "name": "stdout",
     "output_type": "stream",
     "text": [
      "True\n"
     ]
    }
   ],
   "source": [
    "string = \"This is a sample text\"\n",
    "\n",
    "word = \"text\"\n",
    "\n",
    "check_str = string.endswith(word)\n",
    "\n",
    "print(check_str)"
   ]
  },
  {
   "cell_type": "markdown",
   "id": "9b5a533f-7e8e-489e-8857-02055c003a44",
   "metadata": {},
   "source": [
    "19. Convert a string to title case (e.g., \"hello world\" to \"Hello World\")."
   ]
  },
  {
   "cell_type": "code",
   "execution_count": 7,
   "id": "abe065b9-5a22-42c1-b703-fc1fb3e98cf4",
   "metadata": {},
   "outputs": [
    {
     "name": "stdout",
     "output_type": "stream",
     "text": [
      "Hello World\n"
     ]
    }
   ],
   "source": [
    "int_string = \"hello world\"\n",
    "\n",
    "con_string= int_string.title()\n",
    "\n",
    "print(con_string)"
   ]
  },
  {
   "cell_type": "markdown",
   "id": "45176f67-4f8d-42a4-b368-bd4dd0871b73",
   "metadata": {},
   "source": [
    "20. Find the longest word in a string."
   ]
  },
  {
   "cell_type": "code",
   "execution_count": null,
   "id": "45b6fcbd-a09c-4354-863f-e53ca19c1448",
   "metadata": {},
   "outputs": [],
   "source": [
    "input_string = \"This is a sample sentence with some long and short words.\"\n",
    "\n",
    "words = input_string.split()\n",
    "longest_word = max(words, key=len)\n",
    "\n",
    "print(\"Longest word:\", longest_word)"
   ]
  },
  {
   "cell_type": "markdown",
   "id": "1e90975a-d6bc-4250-ad66-cc36510dfaf8",
   "metadata": {},
   "source": [
    "21. Find the shortest word in a string."
   ]
  },
  {
   "cell_type": "code",
   "execution_count": 8,
   "id": "622af392-ea88-4a4f-bdab-8871a6b866db",
   "metadata": {},
   "outputs": [
    {
     "name": "stdout",
     "output_type": "stream",
     "text": [
      "Longest word: a\n"
     ]
    }
   ],
   "source": [
    "input_string = \"This is a sample sentence with some long and short words.\"\n",
    "\n",
    "words = input_string.split()\n",
    "longest_word = min(words, key=len)\n",
    "\n",
    "print(\"Longest word:\", longest_word)"
   ]
  },
  {
   "cell_type": "markdown",
   "id": "6c64bf7a-eff3-4632-9078-687d4a5bab66",
   "metadata": {},
   "source": [
    "22. Reverse the order of words in a string."
   ]
  },
  {
   "cell_type": "code",
   "execution_count": 14,
   "id": "ce695213-e535-4d9f-9c6f-1ceff77a2295",
   "metadata": {},
   "outputs": [
    {
     "name": "stdout",
     "output_type": "stream",
     "text": [
      "Reversed string: sentence sample a is This\n"
     ]
    }
   ],
   "source": [
    "int_string = \"This is a sample sentence \"\n",
    "word = int_string.split()\n",
    "\n",
    "rev_string = ' '.join(reversed(word))\n",
    "\n",
    "print(\"Reversed string:\",rev_string)"
   ]
  },
  {
   "cell_type": "markdown",
   "id": "a329bb37-2d60-4629-b5fb-8293445f0bf7",
   "metadata": {},
   "source": [
    "23. Check if a string is alphanumeric."
   ]
  },
  {
   "cell_type": "code",
   "execution_count": 17,
   "id": "34a842c0-b5e8-461a-83eb-a2a79c196c03",
   "metadata": {},
   "outputs": [
    {
     "name": "stdout",
     "output_type": "stream",
     "text": [
      "True\n"
     ]
    }
   ],
   "source": [
    "int_string = \"sample123\"\n",
    "\n",
    "apla_string = int_string.isalnum()\n",
    "\n",
    "print(apla_string)"
   ]
  },
  {
   "cell_type": "markdown",
   "id": "5de35fec-000e-400d-a38d-51c3f83e9f73",
   "metadata": {},
   "source": [
    "24. Extract all digits from a string."
   ]
  },
  {
   "cell_type": "code",
   "execution_count": 20,
   "id": "2d9c136f-232a-4280-9d2d-6481c091793a",
   "metadata": {},
   "outputs": [
    {
     "name": "stdout",
     "output_type": "stream",
     "text": [
      "1231258378\n"
     ]
    }
   ],
   "source": [
    "int_string = \"hello123 hpppp125 jdhq8378\"\n",
    "\n",
    "result = ''.join(filter(str.isdigit, int_string))\n",
    "\n",
    "print(result)"
   ]
  },
  {
   "cell_type": "markdown",
   "id": "95b94fd2-8dc4-40c1-bbef-72470d7e3f1c",
   "metadata": {},
   "source": [
    "25. Extract all alphabets from a string."
   ]
  },
  {
   "cell_type": "code",
   "execution_count": 22,
   "id": "3109a636-85e3-48be-b91a-21b33abdf453",
   "metadata": {},
   "outputs": [
    {
     "name": "stdout",
     "output_type": "stream",
     "text": [
      "hellohppppjdhq\n"
     ]
    }
   ],
   "source": [
    "int_string = \"hello123 hpppp125 jdhq8378\"\n",
    "\n",
    "result = ''.join(filter(str.isalpha, int_string))\n",
    "\n",
    "print(result)"
   ]
  },
  {
   "cell_type": "markdown",
   "id": "02df5ad2-fa07-4753-9151-3d2b35c82ba8",
   "metadata": {},
   "source": [
    "26. Count the number of uppercase letters in a string."
   ]
  },
  {
   "cell_type": "code",
   "execution_count": 23,
   "id": "1c4201d0-546b-49d7-8669-6acc7474e03b",
   "metadata": {},
   "outputs": [
    {
     "name": "stdin",
     "output_type": "stream",
     "text": [
      "Enter a string :  PUneeT\n"
     ]
    },
    {
     "name": "stdout",
     "output_type": "stream",
     "text": [
      "3\n"
     ]
    }
   ],
   "source": [
    "int_string = input(\"Enter a string : \")\n",
    "\n",
    "count = 0 \n",
    "\n",
    "for ch in int_string:\n",
    "    if ch.isupper():\n",
    "        count+=1\n",
    "        \n",
    "print(count)"
   ]
  },
  {
   "cell_type": "markdown",
   "id": "1468bbee-ac9f-4411-b5f9-512d45099715",
   "metadata": {},
   "source": [
    "27. Count the number of lowercase letters in a string"
   ]
  },
  {
   "cell_type": "code",
   "execution_count": 25,
   "id": "52011a59-ec36-48f6-b5b6-9143d96b7fd9",
   "metadata": {},
   "outputs": [
    {
     "name": "stdin",
     "output_type": "stream",
     "text": [
      "Enter a string :  Puneet\n"
     ]
    },
    {
     "name": "stdout",
     "output_type": "stream",
     "text": [
      "5\n"
     ]
    }
   ],
   "source": [
    "int_string = input(\"Enter a string : \")\n",
    "\n",
    "count = 0 \n",
    "\n",
    "for ch in int_string:\n",
    "    if ch.islower():\n",
    "        count+=1\n",
    "        \n",
    "print(count)"
   ]
  },
  {
   "cell_type": "markdown",
   "id": "30310d24-e559-4204-88b2-53376b9ea1f0",
   "metadata": {},
   "source": [
    "28. Swap the case of each character in a string."
   ]
  },
  {
   "cell_type": "code",
   "execution_count": 28,
   "id": "4af7b6ee-4136-4842-8026-17557b06289a",
   "metadata": {},
   "outputs": [
    {
     "name": "stdin",
     "output_type": "stream",
     "text": [
      "Enter a string :  Puneet\n"
     ]
    },
    {
     "name": "stdout",
     "output_type": "stream",
     "text": [
      "String after swap : pUNEET\n"
     ]
    }
   ],
   "source": [
    "int_string = input(\"Enter a string : \")\n",
    "\n",
    "swap_string = int_string.swapcase()\n",
    "\n",
    "print(\"String after swap :\",swap_string)"
   ]
  },
  {
   "cell_type": "markdown",
   "id": "9f6ce24e-d0ae-4821-b91b-3c129a031a78",
   "metadata": {},
   "source": [
    "29. Remove a specific word from a string."
   ]
  },
  {
   "cell_type": "code",
   "execution_count": 30,
   "id": "eb860e9e-9a21-4737-b892-a964ae9b18ab",
   "metadata": {},
   "outputs": [
    {
     "name": "stdin",
     "output_type": "stream",
     "text": [
      "Enter a string :  Hello i am puneet\n",
      "Enter a word to remove Hello\n"
     ]
    },
    {
     "name": "stdout",
     "output_type": "stream",
     "text": [
      "Modified string :   i am puneet\n"
     ]
    }
   ],
   "source": [
    "int_string = input(\"Enter a string : \")\n",
    "\n",
    "word = input(\"Enter a word to remove\")\n",
    "\n",
    "modi_string = int_string.replace(word,'')\n",
    "\n",
    "print(\"Modified string : \",modi_string)"
   ]
  },
  {
   "cell_type": "markdown",
   "id": "187d9248-c02b-4983-b683-658f7862446c",
   "metadata": {},
   "source": [
    "30. Check if a string is a valid email address."
   ]
  },
  {
   "cell_type": "code",
   "execution_count": 31,
   "id": "8d7d7ecd-f52b-4202-ab83-7267a86bcbf3",
   "metadata": {},
   "outputs": [
    {
     "name": "stdin",
     "output_type": "stream",
     "text": [
      "Enter an email address:  puneetsharma0369@gmail.com\n"
     ]
    },
    {
     "name": "stdout",
     "output_type": "stream",
     "text": [
      "Valid email address.\n"
     ]
    }
   ],
   "source": [
    "import re\n",
    "\n",
    "# Input an email address\n",
    "email = input(\"Enter an email address: \")\n",
    "\n",
    "pattern = r'^[a-zA-Z0-9._%+-]+@[a-zA-Z0-9.-]+\\.[a-zA-Z]{2,}$'\n",
    "\n",
    "if re.match(pattern, email):\n",
    "    print(\"Valid email address.\")\n",
    "else:\n",
    "    print(\"Invalid email address.\")"
   ]
  },
  {
   "cell_type": "markdown",
   "id": "1de3f7cf-3dd0-491d-9523-1528541b7905",
   "metadata": {},
   "source": [
    "31. Extract the username from an email address string."
   ]
  },
  {
   "cell_type": "code",
   "execution_count": 33,
   "id": "e1938cb9-dab6-4494-9fda-44823b2bd8dd",
   "metadata": {},
   "outputs": [
    {
     "name": "stdin",
     "output_type": "stream",
     "text": [
      "Enter a string :  puneetsharma@gmail.com\n"
     ]
    },
    {
     "name": "stdout",
     "output_type": "stream",
     "text": [
      "Username :  puneetsharma\n"
     ]
    }
   ],
   "source": [
    "int_string = input(\"Enter a string : \")\n",
    "\n",
    "username = int_string.split('@')[0]\n",
    "\n",
    "print(\"Username : \",username)"
   ]
  },
  {
   "cell_type": "markdown",
   "id": "01ba4fa7-98cf-4b48-bf62-c76a794fcb2c",
   "metadata": {},
   "source": [
    "32. Extract the domain name from an email address string."
   ]
  },
  {
   "cell_type": "code",
   "execution_count": 37,
   "id": "aab27074-6ade-4620-866d-5dfef09551f0",
   "metadata": {},
   "outputs": [
    {
     "name": "stdin",
     "output_type": "stream",
     "text": [
      "Enter a string :  puneetsharma@gmail.com\n"
     ]
    },
    {
     "name": "stdout",
     "output_type": "stream",
     "text": [
      "Domain name :  gmail.com\n"
     ]
    }
   ],
   "source": [
    "int_string = input(\"Enter a string : \")\n",
    "\n",
    "username = int_string.split('@')[1]\n",
    "\n",
    "print(\"Domain name : \",username)"
   ]
  },
  {
   "cell_type": "markdown",
   "id": "6572d994-92df-49c9-8056-3badd9e0e8f5",
   "metadata": {},
   "source": [
    "33. Replace multiple spaces in a string with a single space."
   ]
  },
  {
   "cell_type": "code",
   "execution_count": 42,
   "id": "bef49bc9-3030-44ce-8228-c3261a877fb5",
   "metadata": {},
   "outputs": [
    {
     "name": "stdout",
     "output_type": "stream",
     "text": [
      "Modified string : This is a sample string\n"
     ]
    }
   ],
   "source": [
    "int_string = \"This    is   a sample   string\"\n",
    "\n",
    "modi_string =' '.join(int_string.split())\n",
    "\n",
    "print(\"Modified string :\",modi_string)"
   ]
  },
  {
   "cell_type": "markdown",
   "id": "7892cc72-9565-474f-acd0-8be1664d6d0d",
   "metadata": {},
   "source": [
    "34. Check if a string is a valid URL."
   ]
  },
  {
   "cell_type": "code",
   "execution_count": 43,
   "id": "ef726fef-62f5-4c55-8076-7337758bf7f2",
   "metadata": {},
   "outputs": [
    {
     "name": "stdin",
     "output_type": "stream",
     "text": [
      "Enter a URL:  http.puneet.com\n"
     ]
    },
    {
     "name": "stdout",
     "output_type": "stream",
     "text": [
      "Invalid URL.\n"
     ]
    }
   ],
   "source": [
    "import re\n",
    "\n",
    "url = input(\"Enter a URL: \")\n",
    "\n",
    "pattern = r'^(http|https)://[a-zA-Z0-9.-]+\\.[a-zA-Z]{2,}'\n",
    "\n",
    "if re.match(pattern, url):\n",
    "    print(\"Valid URL.\")\n",
    "else:\n",
    "    print(\"Invalid URL.\")"
   ]
  },
  {
   "cell_type": "markdown",
   "id": "1c792a2a-ede0-4f38-afcf-f82e02ef1bb1",
   "metadata": {},
   "source": [
    "35. Extract the protocol (http or https) from a URL string."
   ]
  },
  {
   "cell_type": "code",
   "execution_count": 44,
   "id": "546a0f19-37d1-4d7f-875d-aead156e8bbe",
   "metadata": {},
   "outputs": [
    {
     "name": "stdout",
     "output_type": "stream",
     "text": [
      "Protocol: https\n"
     ]
    }
   ],
   "source": [
    "url = \"https://www.example.com\"\n",
    "\n",
    "protocol = url.split('://')[0]\n",
    "\n",
    "print(\"Protocol:\", protocol)"
   ]
  },
  {
   "cell_type": "markdown",
   "id": "846e8b79-ae7e-4b56-9224-7f4f6856bacd",
   "metadata": {},
   "source": [
    "36. Find the frequency of each character in a string."
   ]
  },
  {
   "cell_type": "code",
   "execution_count": 46,
   "id": "1c9a58f8-da10-4951-af7e-289f97528a23",
   "metadata": {},
   "outputs": [
    {
     "name": "stdout",
     "output_type": "stream",
     "text": [
      "{'H': 1, 'e': 1, 'l': 3, 'o': 2, ' ': 1, 'W': 1, 'r': 1, 'd': 1, '!': 1}\n"
     ]
    }
   ],
   "source": [
    "int_string = \"Hello World!\"\n",
    "\n",
    "char_frequency = {}\n",
    "\n",
    "for char in int_string:\n",
    "    if char in char_frequency:\n",
    "        char_frequency[char]+=1\n",
    "    else:\n",
    "        char_frequency[char]=1\n",
    "        \n",
    "print(char_frequency)"
   ]
  },
  {
   "cell_type": "markdown",
   "id": "858d3e98-db91-4bc7-a9dd-51c44bfa883a",
   "metadata": {},
   "source": [
    "37. Remove all punctuation from a string."
   ]
  },
  {
   "cell_type": "code",
   "execution_count": 1,
   "id": "0d3a8973-6d96-4184-b022-24201f6f7e60",
   "metadata": {},
   "outputs": [
    {
     "name": "stdout",
     "output_type": "stream",
     "text": [
      "String without punctuation: Hello world\n"
     ]
    }
   ],
   "source": [
    "import string\n",
    "\n",
    "input_string = \"Hello, world!\"\n",
    "\n",
    "punctuation_re = input_string.translate(str.maketrans(\"\", \"\", string.punctuation))\n",
    "\n",
    "print(\"String without punctuation:\", punctuation_re)"
   ]
  },
  {
   "cell_type": "markdown",
   "id": "382b75b8-b959-4ebc-8b60-a2c590ddf6e3",
   "metadata": {},
   "source": [
    "38. Check if a string contains only digits."
   ]
  },
  {
   "cell_type": "code",
   "execution_count": 5,
   "id": "379c3e0e-f8db-4f45-83da-e77dad507b18",
   "metadata": {},
   "outputs": [
    {
     "name": "stdout",
     "output_type": "stream",
     "text": [
      "String does not contain only digits.\n"
     ]
    }
   ],
   "source": [
    "int_string = \"Hello123\"\n",
    "\n",
    "if int_string.isdigit():\n",
    "    print(\"String contains only digits.\")\n",
    "else:\n",
    "    print(\"String does not contain only digits.\")"
   ]
  },
  {
   "cell_type": "markdown",
   "id": "d2956110-5789-4a92-be7e-9b88f42caf09",
   "metadata": {},
   "source": [
    "39. Check if a string contains only alphabets."
   ]
  },
  {
   "cell_type": "code",
   "execution_count": 7,
   "id": "14b13cef-420f-4f83-b2d8-030e924ea184",
   "metadata": {},
   "outputs": [
    {
     "name": "stdout",
     "output_type": "stream",
     "text": [
      "String does not contain only alphabets.\n"
     ]
    }
   ],
   "source": [
    "string = \"Hello123\"\n",
    "\n",
    "if string.isalpha():\n",
    "    print(\"String contains only alphabets.\")\n",
    "else:\n",
    "    print(\"String does not contain only alphabets.\")"
   ]
  },
  {
   "cell_type": "markdown",
   "id": "c7e81465-83a6-4ac5-8eff-92c67bd12796",
   "metadata": {},
   "source": [
    "40. Convert a string to a list of characters."
   ]
  },
  {
   "cell_type": "code",
   "execution_count": 9,
   "id": "fedb4679-29f3-45a2-a19b-97c1bae7f6fc",
   "metadata": {},
   "outputs": [
    {
     "name": "stdout",
     "output_type": "stream",
     "text": [
      "List of characters: ['H', 'e', 'l', 'l', 'o', ',', ' ', 'w', 'o', 'r', 'l', 'd', '!']\n"
     ]
    }
   ],
   "source": [
    "int_string = \"Hello world!\"\n",
    "\n",
    "char_list = list(input_string)\n",
    "\n",
    "print(\"List of characters:\", char_list)"
   ]
  },
  {
   "cell_type": "markdown",
   "id": "ba996d8d-7d2a-4307-851a-964244bb0255",
   "metadata": {},
   "source": [
    "41. Check if two strings are anagrams"
   ]
  },
  {
   "cell_type": "code",
   "execution_count": 10,
   "id": "3994012f-976a-449e-aed0-774fa1f87a44",
   "metadata": {},
   "outputs": [
    {
     "name": "stdin",
     "output_type": "stream",
     "text": [
      "Enter the first string:  silent\n",
      "Enter the second string:  listen\n"
     ]
    },
    {
     "name": "stdout",
     "output_type": "stream",
     "text": [
      "The strings are anagrams.\n"
     ]
    }
   ],
   "source": [
    "string1 = input(\"Enter the first string: \")\n",
    "string2 = input(\"Enter the second string: \")\n",
    "\n",
    "\n",
    "string1 = string1.replace(\" \", \"\").lower()\n",
    "string2 = string2.replace(\" \", \"\").lower()\n",
    "\n",
    "if sorted(string1) == sorted(string2):\n",
    "    print(\"The strings are anagrams.\")\n",
    "else:\n",
    "    print(\"The strings are not anagrams.\")"
   ]
  },
  {
   "cell_type": "markdown",
   "id": "50f91ff8-f36b-4d1f-a76e-1a5b526347c7",
   "metadata": {},
   "source": [
    "42. Encode a string using a Caesar cipher."
   ]
  },
  {
   "cell_type": "code",
   "execution_count": null,
   "id": "6cc6b373-71ed-4a72-84e1-84e4284ee7b2",
   "metadata": {},
   "outputs": [],
   "source": []
  }
 ],
 "metadata": {
  "kernelspec": {
   "display_name": "Python 3 (ipykernel)",
   "language": "python",
   "name": "python3"
  },
  "language_info": {
   "codemirror_mode": {
    "name": "ipython",
    "version": 3
   },
   "file_extension": ".py",
   "mimetype": "text/x-python",
   "name": "python",
   "nbconvert_exporter": "python",
   "pygments_lexer": "ipython3",
   "version": "3.10.8"
  }
 },
 "nbformat": 4,
 "nbformat_minor": 5
}
