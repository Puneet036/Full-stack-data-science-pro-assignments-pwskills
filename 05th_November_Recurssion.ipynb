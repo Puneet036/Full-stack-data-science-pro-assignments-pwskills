{
 "cells": [
  {
   "cell_type": "code",
   "execution_count": null,
   "id": "bdede984-8cb3-43fe-896d-22d999ad1ca1",
   "metadata": {},
   "outputs": [],
   "source": [
    "Recursssion Releation"
   ]
  },
  {
   "cell_type": "code",
   "execution_count": null,
   "id": "9f231bbf-fcc5-422c-9396-e9fcd6c507ba",
   "metadata": {},
   "outputs": [],
   "source": [
    "1. Find the value of T(2) for the recurrence relation T(n) = 3T(n-1) + 12n, given that T(0)=5."
   ]
  },
  {
   "cell_type": "code",
   "execution_count": 1,
   "id": "ef5e175b-e8b2-44d0-9097-1ea071358134",
   "metadata": {},
   "outputs": [
    {
     "name": "stdout",
     "output_type": "stream",
     "text": [
      "value of T(2) :  105\n"
     ]
    }
   ],
   "source": [
    "def relation(n):\n",
    "    if n==0:\n",
    "        return 5\n",
    "    else:\n",
    "        return 3*relation(n-1) + 12*n\n",
    "    \n",
    "res =relation(2)\n",
    "print(\"value of T(2) : \", res)"
   ]
  },
  {
   "cell_type": "code",
   "execution_count": null,
   "id": "91375bb0-76cc-4bbb-8ebe-e04330bfcfaa",
   "metadata": {},
   "outputs": [],
   "source": [
    "2. Given a reurrence relation, solve it using the substitution method:\n",
    "\n",
    "a. T(n) = T(n-1) + c"
   ]
  },
  {
   "cell_type": "code",
   "execution_count": 12,
   "id": "3b0707ee-3394-4184-840d-4eb90a1e6ef3",
   "metadata": {},
   "outputs": [
    {
     "name": "stdout",
     "output_type": "stream",
     "text": [
      "13\n"
     ]
    }
   ],
   "source": [
    "def reurrence_relation(n):\n",
    "    if n==1:\n",
    "        return 1\n",
    "    else:\n",
    "        return 2*reurrence_relation(n-1)+c\n",
    "    \n",
    "n=3\n",
    "res=reurrence_relation(n)\n",
    "print(res)"
   ]
  },
  {
   "cell_type": "code",
   "execution_count": null,
   "id": "f5dd1b01-882a-40e4-a7c8-2d676d1e2ca6",
   "metadata": {},
   "outputs": [],
   "source": [
    "T(n) = T(n-1) + c      ------ 1\n",
    "T(n) = T(n-2) + c      (replacing n with n-1 in equation 1)\n",
    "T(n) = T(n-2) + 2c     (substituing the value of T(n-1) in equation 1)\n",
    "T(n) = T(n-3) + 3c\n",
    "repeat this k times\n",
    "T(n) = T(n-k) + kc\n",
    "==>n-k=1\n",
    "==>k=n-1\n",
    "T(n) = T(1) + (n-1)c\n",
    "     = O(n.c)\n",
    "     =O(n)"
   ]
  },
  {
   "cell_type": "code",
   "execution_count": null,
   "id": "f0f46624-89c5-4955-99db-520837142c0d",
   "metadata": {},
   "outputs": [],
   "source": [
    "b. T(n) = 2T(n/2) + n"
   ]
  },
  {
   "cell_type": "code",
   "execution_count": null,
   "id": "f27d69c6-5513-4aaa-a40e-d0634bdf240c",
   "metadata": {},
   "outputs": [],
   "source": [
    "def reurrence_relation(n):\n",
    "    if n==1:\n",
    "        return 1\n",
    "    else:\n",
    "        return 2*reurrence_relation(n-1)+c\n",
    "    \n",
    "n=3\n",
    "res=reurrence_relation(n)\n",
    "print(res)"
   ]
  },
  {
   "cell_type": "code",
   "execution_count": null,
   "id": "aefa8163-f5aa-4ed5-8afc-d8b342f587c7",
   "metadata": {},
   "outputs": [],
   "source": [
    "c. T(n) = 2T(n/2) + c"
   ]
  },
  {
   "cell_type": "code",
   "execution_count": 19,
   "id": "f916d853-440d-4231-bc5f-fd8866371f7d",
   "metadata": {},
   "outputs": [
    {
     "name": "stdout",
     "output_type": "stream",
     "text": [
      "155\n"
     ]
    }
   ],
   "source": [
    "def reurrence_rel(n,c):\n",
    "    if n==1:\n",
    "        return c\n",
    "    else:\n",
    "        return 2*reurrence_rel(n/2,c)+c\n",
    "    \n",
    "n=16\n",
    "c=5\n",
    "res=reurrence_rel(n,c)\n",
    "print(res)"
   ]
  },
  {
   "cell_type": "code",
   "execution_count": null,
   "id": "69129854-180b-43a2-9e13-9465387fc250",
   "metadata": {},
   "outputs": [],
   "source": [
    "d. T(n) = T(n/2) + c"
   ]
  },
  {
   "cell_type": "code",
   "execution_count": 20,
   "id": "63baf613-8049-43a5-8f23-29fcd9c06a93",
   "metadata": {},
   "outputs": [
    {
     "name": "stdout",
     "output_type": "stream",
     "text": [
      "25\n"
     ]
    }
   ],
   "source": [
    "def reu_rel(n,c):\n",
    "    if n==1:\n",
    "        return c\n",
    "    else:\n",
    "        return reu_rel(n/2,c)+c\n",
    "    \n",
    "n=16\n",
    "c=5\n",
    "res=reu_rel(n,c)\n",
    "print(res)"
   ]
  },
  {
   "cell_type": "code",
   "execution_count": null,
   "id": "2b9f8d6b-5289-44c6-8c7b-b164ab5eb131",
   "metadata": {},
   "outputs": [],
   "source": [
    "3. Given a recurrence relation, solve it using the recursive tree approach:\n",
    "\n",
    "a. T(n) = 2T(n-1) +1"
   ]
  },
  {
   "cell_type": "code",
   "execution_count": 21,
   "id": "6403df99-b938-4d49-a0b1-39d84b17e01e",
   "metadata": {},
   "outputs": [
    {
     "name": "stdout",
     "output_type": "stream",
     "text": [
      "31\n"
     ]
    }
   ],
   "source": [
    "def reurrence_relation(n):\n",
    "    if n==0:\n",
    "        return 0\n",
    "    else:\n",
    "        return 2*reurrence_relation(n-1)+1\n",
    "    \n",
    "n=5\n",
    "res=reurrence_relation(n)\n",
    "print(res)"
   ]
  },
  {
   "cell_type": "code",
   "execution_count": null,
   "id": "f67a36a9-7372-4b0c-8d58-6bc0ed32fc22",
   "metadata": {},
   "outputs": [],
   "source": [
    "b. T(n) = 2T(n/2) + n"
   ]
  },
  {
   "cell_type": "code",
   "execution_count": 24,
   "id": "fdbd662e-8349-4231-933c-3a7cdd520c38",
   "metadata": {},
   "outputs": [
    {
     "name": "stdout",
     "output_type": "stream",
     "text": [
      "80\n"
     ]
    }
   ],
   "source": [
    "def reurrence_relation(n):\n",
    "    if n<=1:\n",
    "        return n\n",
    "    else:\n",
    "        return 2*reurrence_relation(n//2)+n\n",
    "    \n",
    "n=16\n",
    "res=reurrence_relation(n)\n",
    "print(res)"
   ]
  },
  {
   "cell_type": "code",
   "execution_count": null,
   "id": "27fad4dd-d3a1-4231-a8b4-720d3aa5671c",
   "metadata": {},
   "outputs": [],
   "source": []
  }
 ],
 "metadata": {
  "kernelspec": {
   "display_name": "Python 3 (ipykernel)",
   "language": "python",
   "name": "python3"
  },
  "language_info": {
   "codemirror_mode": {
    "name": "ipython",
    "version": 3
   },
   "file_extension": ".py",
   "mimetype": "text/x-python",
   "name": "python",
   "nbconvert_exporter": "python",
   "pygments_lexer": "ipython3",
   "version": "3.10.8"
  }
 },
 "nbformat": 4,
 "nbformat_minor": 5
}
