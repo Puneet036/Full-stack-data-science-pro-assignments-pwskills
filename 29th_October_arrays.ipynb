{
 "cells": [
  {
   "cell_type": "code",
   "execution_count": null,
   "id": "fb9f55f3-ea23-4066-8fb0-61094cb4fe13",
   "metadata": {},
   "outputs": [],
   "source": [
    "1. Given an array, check if it contains any duplicates or not. \n",
    "\n",
    "#Output = Tru"
   ]
  },
  {
   "cell_type": "code",
   "execution_count": 1,
   "id": "97e65b81-9308-479f-8a15-41f2f9bb057a",
   "metadata": {},
   "outputs": [
    {
     "name": "stdout",
     "output_type": "stream",
     "text": [
      "True\n"
     ]
    }
   ],
   "source": [
    "def duplicate(arr):\n",
    "    for i in range(len(arr)):\n",
    "        for j in range(i+1,len(arr)):\n",
    "            if arr[i]==arr[j]:\n",
    "                return True\n",
    "    return False\n",
    "\n",
    "arr = [1, 2, 4, 2, 5, 9] \n",
    "print(duplicate(arr))"
   ]
  },
  {
   "cell_type": "code",
   "execution_count": null,
   "id": "52e9f20f-61a7-48ca-bb54-5a5f778b5026",
   "metadata": {},
   "outputs": [],
   "source": [
    "2. Given an array and an integer k, rotate the array to the right by k steps. \n",
    "\n",
    " #arr = [1, 2, 3, 4, 5, 6, 7] k = 3 \n",
    "\n",
    "#Output = [5, 6, 7, 1, 2, 3, 4]"
   ]
  },
  {
   "cell_type": "code",
   "execution_count": 18,
   "id": "832f1c21-605b-488d-bc38-2f229c167255",
   "metadata": {},
   "outputs": [
    {
     "name": "stdout",
     "output_type": "stream",
     "text": [
      "[5, 6, 7, 1, 2, 3, 4]\n"
     ]
    }
   ],
   "source": [
    "def rotate_array(arr, k):\n",
    "    arr[:] = arr[-k:] + arr[:-k]\n",
    "\n",
    "arr = [1, 2, 3, 4, 5, 6, 7]\n",
    "k = 3\n",
    "rotate_array(arr, k)\n",
    "print(arr)"
   ]
  },
  {
   "cell_type": "code",
   "execution_count": null,
   "id": "25f19da6-f72d-4f82-a9d5-00af951c4239",
   "metadata": {},
   "outputs": [],
   "source": [
    "3. Reverse the given array in-place, means without using any extra data structure. \n",
    "\n",
    "#arr = [2, 4, 5, 7, 9, 12] \n",
    "\n",
    "#Output = [12, 9, 7, 5, 4, 2]"
   ]
  },
  {
   "cell_type": "code",
   "execution_count": 16,
   "id": "6371a394-22d5-46f0-b339-a729976ea2fc",
   "metadata": {},
   "outputs": [
    {
     "name": "stdout",
     "output_type": "stream",
     "text": [
      "[12, 9, 7, 5, 4, 2]\n"
     ]
    }
   ],
   "source": [
    "def reverse(arr):\n",
    "    arr[:]=arr[::-1]\n",
    "    \n",
    "    \n",
    "    \n",
    "arr = [2, 4, 5, 7, 9, 12] \n",
    "reverse(arr)\n",
    "print(arr)"
   ]
  },
  {
   "cell_type": "code",
   "execution_count": null,
   "id": "50f7579e-3863-4df4-ad6c-26a6bd3a1354",
   "metadata": {},
   "outputs": [],
   "source": [
    "4. Given an array of integers, find the maximum element in an array\n",
    "\n",
    " #arr = [10, 5, 20, 8, 15]\n",
    "\n",
    " #Output = 20"
   ]
  },
  {
   "cell_type": "code",
   "execution_count": 7,
   "id": "a2494045-a266-4442-b435-8338cb250ee0",
   "metadata": {},
   "outputs": [
    {
     "data": {
      "text/plain": [
       "20"
      ]
     },
     "execution_count": 7,
     "metadata": {},
     "output_type": "execute_result"
    }
   ],
   "source": [
    "def maximum_element(arr):\n",
    "    max_ele=0\n",
    "    for i in range(len(arr)):\n",
    "        if arr[i]>max_ele:\n",
    "            max_ele=arr[i]\n",
    "    return max_ele\n",
    "\n",
    "\n",
    "arr = [10, 5, 20, 8, 15]\n",
    "maximum_element(arr)"
   ]
  },
  {
   "cell_type": "code",
   "execution_count": null,
   "id": "d38eb71d-a168-424b-ac78-88d23f72923a",
   "metadata": {},
   "outputs": [],
   "source": [
    "5. Given a sorted array, remove the duplicate element without using any extra data structure. \n",
    "\n",
    "#arr = [1, 1, 2, 2, 2, 3, 3, 4, 4, 4, 5, 5] \n",
    "\n",
    "#Output = [1, 2, 3, 4, 5]\n"
   ]
  },
  {
   "cell_type": "code",
   "execution_count": 16,
   "id": "a453fa43-d77b-4ab3-b4e1-b939c49c8bba",
   "metadata": {},
   "outputs": [
    {
     "name": "stdout",
     "output_type": "stream",
     "text": [
      "1 2 3 4 5 6 "
     ]
    }
   ],
   "source": [
    "def remove_duplicates(arr):\n",
    "    n= len(arr)\n",
    "    if n==o or n==1:\n",
    "        return n\n",
    "    \n",
    "    j=0\n",
    "    \n",
    "    for i in range(n-1):\n",
    "        if arr[i]!=arr[i+1]:\n",
    "            arr[j]=arr[i]\n",
    "            j+=1\n",
    "            \n",
    "    arr[j] = arr[n - 1]\n",
    " \n",
    "    return j + 1\n",
    "\n",
    "\n",
    "arr = [1, 1, 2, 2, 2, 3, 3, 4, 4, 4, 5, 5,6,6] \n",
    "n = remove_duplicates(arr)\n",
    "\n",
    "for i in range(n):\n",
    "    print(arr[i], end=\" \")\n"
   ]
  },
  {
   "cell_type": "code",
   "execution_count": null,
   "id": "e6fd1314-af61-406b-bf52-cc2e2d1b97e2",
   "metadata": {},
   "outputs": [],
   "source": []
  }
 ],
 "metadata": {
  "kernelspec": {
   "display_name": "Python 3 (ipykernel)",
   "language": "python",
   "name": "python3"
  },
  "language_info": {
   "codemirror_mode": {
    "name": "ipython",
    "version": 3
   },
   "file_extension": ".py",
   "mimetype": "text/x-python",
   "name": "python",
   "nbconvert_exporter": "python",
   "pygments_lexer": "ipython3",
   "version": "3.10.8"
  }
 },
 "nbformat": 4,
 "nbformat_minor": 5
}
