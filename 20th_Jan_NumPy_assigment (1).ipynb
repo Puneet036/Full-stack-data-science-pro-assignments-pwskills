{
 "cells": [
  {
   "cell_type": "code",
   "execution_count": null,
   "id": "fcb68c58-46b2-4d40-9fe2-69240061f1a4",
   "metadata": {},
   "outputs": [],
   "source": [
    "1. What is a Python library? Why ^o we use Python libraries?"
   ]
  },
  {
   "cell_type": "markdown",
   "id": "e5b3b767-d0f4-439d-91fd-9b8a8f1bc032",
   "metadata": {},
   "source": [
    "A Python library is a collection of pre-written and reusable code modules that provide specific functionality. These libraries are designed to help developers perform common tasks without having to implement the code from scratch. Here’s why we use Python libraries:\n",
    "\n",
    "Reusability: Libraries encapsulate code that can be reused across different projects and by different developers, saving time and effort.\n",
    "\n",
    "Functionality: They provide ready-made functions and classes to perform specific operations or solve particular problems, which helps in implementing complex tasks quickly.\n",
    "\n",
    "Efficiency: Using libraries often results in more efficient code, as they are usually well-tested and optimized for performance.\n",
    "\n",
    "Community and Support: Python libraries are often developed and maintained by a community of developers, ensuring ongoing support, bug fixes, and updates.\n",
    "\n",
    "Integration: Libraries allow easy integration with other components of a system, such as databases, web frameworks, or APIs.\n",
    "\n",
    "Standards: Many Python libraries adhere to coding standards and best practices, ensuring reliability and consistency in development."
   ]
  },
  {
   "cell_type": "code",
   "execution_count": null,
   "id": "41001363-ee7a-453f-a4b8-902e89884fa1",
   "metadata": {},
   "outputs": [],
   "source": [
    "2. What is the difference between Numpy array and List?"
   ]
  },
  {
   "cell_type": "markdown",
   "id": "63447720-0270-4b0f-ae00-6e3589d2e4b3",
   "metadata": {},
   "source": [
    "Data Type and Homogeneity:\n",
    "NumPy Array: NumPy arrays are homogeneous, meaning all elements in the array must be of the same data type (e.g., integers, floats). This allows for efficient storage and operations.\n",
    "List: Python lists can contain elements of different data types and can even store other lists or complex objects within them.\n",
    "\n",
    "Performance:\n",
    "NumPy Array: NumPy arrays are more efficient for numerical operations than lists. This efficiency is primarily due to their homogeneity and contiguous memory allocation, which allows NumPy to leverage optimized, pre-compiled C-code for operations.\n",
    "List: Lists are more flexible but are slower for numerical computations because they are not optimized for such operations.\n",
    "\n",
    "Size Dynamism:\n",
    "NumPy Array: The size of a NumPy array is fixed when it is created. Changing the size of an array will create a new array and delete the original.\n",
    "List: Lists in Python are dynamic and can grow or shrink as needed by appending or removing elements. This dynamic resizing can lead to overhead and slower performance compared to NumPy arrays.\n",
    "\n",
    "Functionality and Methods:\n",
    "NumPy Array: NumPy arrays offer a wide variety of mathematical operations and functions that can be performed directly on the entire array without the need for explicit loops.\n",
    "List: Lists have a smaller set of built-in methods compared to NumPy arrays, and for numerical operations, you often need to iterate through the list, which can be slower.\n",
    "\n",
    "Usage:\n",
    "NumPy Array: NumPy arrays are commonly used in scientific computing, data analysis, machine learning, and tasks involving large datasets where performance is critical.\n",
    "List: Lists are used in general-purpose programming for storing collections of arbitrary objects and are suitable for tasks where flexibility and ease of use are more important than performance."
   ]
  },
  {
   "cell_type": "code",
   "execution_count": null,
   "id": "163fe6a1-5ab2-4400-a1f4-bf8da311bccf",
   "metadata": {},
   "outputs": [],
   "source": [
    "3. Find the shape, size and dimension of the following array?\n",
    "[[1, 2, 3, 4]\n",
    "[5, 6, 7, 8],\n",
    "[9, 10, 11, 12]]"
   ]
  },
  {
   "cell_type": "code",
   "execution_count": 9,
   "id": "20487609-202c-4d1a-b268-63cd64eee737",
   "metadata": {},
   "outputs": [
    {
     "name": "stdout",
     "output_type": "stream",
     "text": [
      "Dimension : 2\n",
      "Size : 12\n",
      "Shape : (3, 4)\n"
     ]
    }
   ],
   "source": [
    "import numpy as np\n",
    "\n",
    "arr1 = np.array([[1,2,3,4],[5,6,7,8],[9,10,11,12]])\n",
    "print(\"Dimension :\",arr1.ndim)\n",
    "print(\"Size :\",arr1.size)\n",
    "print(\"Shape :\",arr1.shape)"
   ]
  },
  {
   "cell_type": "code",
   "execution_count": null,
   "id": "3bd97631-9153-4e6a-9a52-02dc61ec568b",
   "metadata": {},
   "outputs": [],
   "source": [
    "4. Write python code to access the first row of the following array?\n",
    "[[1, 2, 3, 4]\n",
    "[5, 6, 7, 8],\n",
    "[9, 10, 11, 12]]"
   ]
  },
  {
   "cell_type": "code",
   "execution_count": 11,
   "id": "c1551e9e-16d4-4da6-ad38-6faf85fcd151",
   "metadata": {},
   "outputs": [
    {
     "data": {
      "text/plain": [
       "array([1, 2, 3, 4])"
      ]
     },
     "execution_count": 11,
     "metadata": {},
     "output_type": "execute_result"
    }
   ],
   "source": [
    "arr1[0]"
   ]
  },
  {
   "cell_type": "code",
   "execution_count": null,
   "id": "c7128c10-0521-4963-b5c1-261287529dd2",
   "metadata": {},
   "outputs": [],
   "source": [
    "5. How do you access the element at the third row and fourth column from the given numpy array?\n",
    "[[1, 2, 3, 4]\n",
    "[5, 6, 7, 8],\n",
    "[9, 10, 11, 12]]"
   ]
  },
  {
   "cell_type": "code",
   "execution_count": 17,
   "id": "8fb7f78a-a7a9-48fe-b98a-4fd57e0726ee",
   "metadata": {},
   "outputs": [
    {
     "name": "stdout",
     "output_type": "stream",
     "text": [
      "[ 9 10 11 12]\n",
      "[ 4  8 12]\n"
     ]
    }
   ],
   "source": [
    "print(arr1[2,:])\n",
    "print(arr1[:,3])"
   ]
  },
  {
   "cell_type": "code",
   "execution_count": null,
   "id": "b314a89d-0c98-445e-a73a-8fe2af59b4a2",
   "metadata": {},
   "outputs": [],
   "source": [
    "6. Write code to extract all odd-indexed elements from the given numpy array?\n",
    "[[1, 2, 3, 4]\n",
    "[5, 6, 7, 8],\n",
    "[9, 10, 11, 12]]"
   ]
  },
  {
   "cell_type": "code",
   "execution_count": 18,
   "id": "b231ca66-bea6-4090-bfeb-d9eeeb3cfd35",
   "metadata": {},
   "outputs": [
    {
     "data": {
      "text/plain": [
       "array([ 1,  3,  5,  7,  9, 11])"
      ]
     },
     "execution_count": 18,
     "metadata": {},
     "output_type": "execute_result"
    }
   ],
   "source": [
    "arr1[arr1 % 2 ==1]"
   ]
  },
  {
   "cell_type": "code",
   "execution_count": null,
   "id": "47ceca30-5852-4416-ba01-0a90f3b0ded1",
   "metadata": {},
   "outputs": [],
   "source": [
    "7. How can you generate a random 3x3 matrix with values between 0 and 1?"
   ]
  },
  {
   "cell_type": "code",
   "execution_count": 23,
   "id": "8f46a3f0-b74e-417a-9ad7-f8f7c6a695ff",
   "metadata": {},
   "outputs": [
    {
     "data": {
      "text/plain": [
       "array([[1, 1, 1],\n",
       "       [1, 1, 0],\n",
       "       [1, 0, 1]])"
      ]
     },
     "execution_count": 23,
     "metadata": {},
     "output_type": "execute_result"
    }
   ],
   "source": [
    "arr2 = np.random.randint(0,2,size=(3,3))\n",
    "arr2"
   ]
  },
  {
   "cell_type": "code",
   "execution_count": null,
   "id": "0ac47c03-4051-40b1-b413-ba367c7b7c3c",
   "metadata": {},
   "outputs": [],
   "source": [
    "8. Describe the difference between np.random.rand and np.random.randn?"
   ]
  },
  {
   "cell_type": "markdown",
   "id": "d72b0526-ad2e-4813-b129-dcbd844440fb",
   "metadata": {},
   "source": [
    "np.random.rand:\n",
    "\n",
    "Distribution: Generates random numbers from a uniform distribution over the interval \n",
    "[0,1).\n",
    "Shape: Accepts dimensions as separate arguments (not as a tuple).\n",
    "Usage: Typically used when you need random numbers that are uniformly distributed between 0 and 1.\n",
    "\n",
    "\n",
    "np.random.randn:\n",
    "\n",
    "Distribution: Generates random numbers from a standard normal distribution (mean=0, standard deviation=1).\n",
    "Shape: Accepts dimensions as a tuple.\n",
    "Usage: Used when you need random numbers that follow a normal (Gaussian) distribution"
   ]
  },
  {
   "cell_type": "code",
   "execution_count": null,
   "id": "ffe3ce42-29e0-4372-a6ad-0c4735f45af6",
   "metadata": {},
   "outputs": [],
   "source": [
    "9. Write code to increase the dimension of the following array?\n",
    "[[1, 2, 3, 4]\n",
    "[5, 6, 7, 8],\n",
    "[9, 10, 11, 12]]"
   ]
  },
  {
   "cell_type": "code",
   "execution_count": 28,
   "id": "1f9448a6-917b-4b3a-b058-8b14c978ede3",
   "metadata": {},
   "outputs": [
    {
     "name": "stdout",
     "output_type": "stream",
     "text": [
      "Original Dimension : 2\n",
      "Expanded dimention : 3\n"
     ]
    }
   ],
   "source": [
    "print(\"Original Dimension :\",arr1.ndim)\n",
    "arr2=np.expand_dims(arr1,axis=0)\n",
    "print(\"Expanded dimention :\",arr2.ndim)"
   ]
  },
  {
   "cell_type": "code",
   "execution_count": null,
   "id": "b99c29cf-6a44-4463-af75-fbf8eac82584",
   "metadata": {},
   "outputs": [],
   "source": [
    "10. How to transpose the following array in NumPy?\n",
    "[[1, 2, 3, 4]\n",
    "[5, 6, 7, 8],\n",
    "[9, 10, 11, 12]]"
   ]
  },
  {
   "cell_type": "code",
   "execution_count": 30,
   "id": "5f82db60-2fce-4cf1-af11-cc48513382a0",
   "metadata": {},
   "outputs": [
    {
     "data": {
      "text/plain": [
       "array([[ 1,  5,  9],\n",
       "       [ 2,  6, 10],\n",
       "       [ 3,  7, 11],\n",
       "       [ 4,  8, 12]])"
      ]
     },
     "execution_count": 30,
     "metadata": {},
     "output_type": "execute_result"
    }
   ],
   "source": [
    "arr1.T"
   ]
  },
  {
   "cell_type": "code",
   "execution_count": null,
   "id": "f0571ceb-5804-4527-ba06-4bb777a0dbe2",
   "metadata": {},
   "outputs": [],
   "source": [
    "11. Consider the following matrix:\n",
    "Matrix A2 [[1, 2, 3, 4] [5, 6, 7, 8],[9, 10, 11, 12]]\n",
    "Matrix B2 [[1, 2, 3, 4] [5, 6, 7, 8],[9, 10, 11, 12]]\n",
    "\n",
    "Perform the following operation using Python:\n",
    "1 Index wiLe multiplication\n",
    "2 Matix multiplicatio'\n",
    "3 Add both the maticK\n",
    "4 Subtact matix B om \n",
    "5 Divide Matix B by A"
   ]
  },
  {
   "cell_type": "code",
   "execution_count": 34,
   "id": "88bc0251-7f5a-448b-b844-05d726752a2e",
   "metadata": {},
   "outputs": [
    {
     "name": "stdout",
     "output_type": "stream",
     "text": [
      "Addition result:\n",
      "[[ 2  4  6  8]\n",
      " [10 12 14 16]\n",
      " [18 20 22 24]]\n",
      "\n",
      "Subtraction result (A2 - B2):\n",
      "[[0 0 0 0]\n",
      " [0 0 0 0]\n",
      " [0 0 0 0]]\n",
      "\n",
      "Matrix multiplication result:\n",
      "[[  1   4   9  16]\n",
      " [ 25  36  49  64]\n",
      " [ 81 100 121 144]]\n",
      "\n",
      "Division result (B2 / A2):\n",
      "[[1. 1. 1. 1.]\n",
      " [1. 1. 1. 1.]\n",
      " [1. 1. 1. 1.]]\n"
     ]
    }
   ],
   "source": [
    "# Define matrices A2 and B2\n",
    "A2 = np.array([[1, 2, 3, 4], [5, 6, 7, 8], [9, 10, 11, 12]])\n",
    "B2 = np.array([[1, 2, 3, 4], [5, 6, 7, 8], [9, 10, 11, 12]])\n",
    "\n",
    "# Add both matrices\n",
    "addition_result = A2 + B2\n",
    "print(\"Addition result:\")\n",
    "print(addition_result)\n",
    "\n",
    "# Subtract matrix B from matrix A\n",
    "subtraction_result = A2 - B2\n",
    "print(\"\\nSubtraction result (A2 - B2):\")\n",
    "print(subtraction_result)\n",
    "\n",
    "# Matrix multiplication\n",
    "multiplication_result = np.multiply(A2,B2)  # Assuming you want to perform matrix multiplication\n",
    "print(\"\\nMatrix multiplication result:\")\n",
    "print(multiplication_result)\n",
    "\n",
    "# Element-wise division of matrix B by matrix A\n",
    "division_result = np.divide(B2, A2)\n",
    "print(\"\\nDivision result (B2 / A2):\")\n",
    "print(division_result)\n"
   ]
  },
  {
   "cell_type": "code",
   "execution_count": null,
   "id": "7f4b5cb6-3e36-4b65-8436-df123129115f",
   "metadata": {},
   "outputs": [],
   "source": [
    "12. Which function in Numpy can be used to swap the byte order of an array?"
   ]
  },
  {
   "cell_type": "code",
   "execution_count": 35,
   "id": "70c5f1b2-f185-4356-b64f-b9717af1769f",
   "metadata": {},
   "outputs": [
    {
     "name": "stdout",
     "output_type": "stream",
     "text": [
      "Original array:\n",
      "[  1 256]\n",
      "\n",
      "Array after byte swapping:\n",
      "[256   1]\n"
     ]
    }
   ],
   "source": [
    "arr = np.array([1, 256], dtype=np.int16)\n",
    "print(\"Original array:\")\n",
    "print(arr)\n",
    "\n",
    "# Swap the byte order of the array\n",
    "arr.byteswap(True)\n",
    "print(\"\\nArray after byte swapping:\")\n",
    "print(arr)"
   ]
  },
  {
   "cell_type": "code",
   "execution_count": null,
   "id": "68fb8d67-a6ce-4e73-b09d-2945613d3c2f",
   "metadata": {},
   "outputs": [],
   "source": [
    "13. What is the significance of the np.linalg.inv function?"
   ]
  },
  {
   "cell_type": "markdown",
   "id": "0a676ee3-a511-45b4-ac0f-4ff8bd8e03f6",
   "metadata": {},
   "source": [
    "The np.linalg.inv function is used to compute the multiplicative inverse of a matrix. It is significant in linear algebra and is commonly used in various mathematical computations, including solving systems of linear equations and computing determinants."
   ]
  },
  {
   "cell_type": "code",
   "execution_count": 38,
   "id": "44aa9897-c080-4725-9240-315009249648",
   "metadata": {},
   "outputs": [
    {
     "name": "stdout",
     "output_type": "stream",
     "text": [
      "Original matrix:\n",
      "[[2 1]\n",
      " [1 3]]\n",
      "\n",
      "Inverse of the matrix:\n",
      "[[ 0.6 -0.2]\n",
      " [-0.2  0.4]]\n"
     ]
    }
   ],
   "source": [
    "A = np.array([[2, 1], [1, 3]])\n",
    "print(\"Original matrix:\")\n",
    "print(A)\n",
    "\n",
    "# Compute the inverse of the matrix\n",
    "A_inv = np.linalg.inv(A)\n",
    "print(\"\\nInverse of the matrix:\")\n",
    "print(A_inv)"
   ]
  },
  {
   "cell_type": "code",
   "execution_count": null,
   "id": "79e9728b-7b92-435e-8343-df3128a0da06",
   "metadata": {},
   "outputs": [],
   "source": [
    "14. What does the np.reshape function do, and how is it used?"
   ]
  },
  {
   "cell_type": "markdown",
   "id": "4a3ac69e-20ee-4a17-b38b-7ecb9440ca43",
   "metadata": {},
   "source": [
    "The np.reshape function is used to change the shape of an array without changing its data. It returns a new array with a modified shape. This function is useful for reorganizing data to fit different dimensional requirements."
   ]
  },
  {
   "cell_type": "code",
   "execution_count": 39,
   "id": "5716f3f3-ddf4-47ea-9a16-36ea98e4c1e3",
   "metadata": {},
   "outputs": [
    {
     "name": "stdout",
     "output_type": "stream",
     "text": [
      "Original 1D array:\n",
      "[ 0  1  2  3  4  5  6  7  8  9 10 11]\n",
      "\n",
      "Reshaped 3x4 matrix:\n",
      "[[ 0  1  2  3]\n",
      " [ 4  5  6  7]\n",
      " [ 8  9 10 11]]\n"
     ]
    }
   ],
   "source": [
    "arr = np.arange(12)\n",
    "print(\"Original 1D array:\")\n",
    "print(arr)\n",
    "\n",
    "# Reshape the array into a 3x4 matrix\n",
    "reshaped_arr = np.reshape(arr, (3, 4))\n",
    "print(\"\\nReshaped 3x4 matrix:\")\n",
    "print(reshaped_arr)"
   ]
  },
  {
   "cell_type": "code",
   "execution_count": null,
   "id": "dd26f2f7-a34e-4820-8463-959d47b0defa",
   "metadata": {},
   "outputs": [],
   "source": [
    "15. What is broadcasting in Numpy?"
   ]
  },
  {
   "cell_type": "markdown",
   "id": "7e23b577-7027-4a12-9e26-c498576c5ad0",
   "metadata": {},
   "source": [
    "Broadcasting is a mechanism in NumPy that allows arrays with different shapes to be combined in arithmetic operations. When performing operations on arrays with different shapes, NumPy automatically \"broadcasts\" the arrays to make their shapes compatible, effectively extending the smaller array to match the shape of the larger one. This allows element-wise operations to be performed between arrays of different shapes without explicitly reshaping them. Broadcasting is an essential feature in NumPy that simplifies many array computations and makes code more concise and readable."
   ]
  },
  {
   "cell_type": "code",
   "execution_count": null,
   "id": "99eb82fe-0284-4efb-94be-89c2f69ec3c0",
   "metadata": {},
   "outputs": [],
   "source": []
  }
 ],
 "metadata": {
  "kernelspec": {
   "display_name": "Python 3 (ipykernel)",
   "language": "python",
   "name": "python3"
  },
  "language_info": {
   "codemirror_mode": {
    "name": "ipython",
    "version": 3
   },
   "file_extension": ".py",
   "mimetype": "text/x-python",
   "name": "python",
   "nbconvert_exporter": "python",
   "pygments_lexer": "ipython3",
   "version": "3.12.3"
  }
 },
 "nbformat": 4,
 "nbformat_minor": 5
}
