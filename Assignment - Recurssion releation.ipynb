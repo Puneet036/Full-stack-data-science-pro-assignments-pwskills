{
 "cells": [
  {
   "cell_type": "code",
   "execution_count": null,
   "id": "07ff06f5-0b7e-4038-a124-a5151ecffbb3",
   "metadata": {},
   "outputs": [],
   "source": [
    "Q.1 Can you explain the logic and working of the Tower of Hanoi algorithm by writing a Java program? \n",
    "\n",
    "How does the recursion work, and how are the movements of disks between rods accomplished?"
   ]
  },
  {
   "cell_type": "code",
   "execution_count": 1,
   "id": "ad63a63a-2f55-4133-8e9d-3bea3b17ddd1",
   "metadata": {},
   "outputs": [
    {
     "name": "stdout",
     "output_type": "stream",
     "text": [
      "Move disk 1 from rod A to rod C\n",
      "Move disk 2 from rod A to rod B\n",
      "Move disk 1 from rod C to rod B\n",
      "Move disk 3 from rod A to rod C\n",
      "Move disk 1 from rod B to rod A\n",
      "Move disk 2 from rod B to rod C\n",
      "Move disk 1 from rod A to rod C\n"
     ]
    }
   ],
   "source": [
    "def TowerOfHanoi(n, from_rod, to_rod, aux_rod): \n",
    "    if n == 0: \n",
    "        return\n",
    "    TowerOfHanoi(n-1, from_rod, aux_rod, to_rod) \n",
    "    print(\"Move disk\", n, \"from rod\", from_rod, \"to rod\", to_rod) \n",
    "    TowerOfHanoi(n-1, aux_rod, to_rod, from_rod) \n",
    "  \n",
    "  \n",
    "N = 3\n",
    "   \n",
    "TowerOfHanoi(N, 'A', 'C', 'B') "
   ]
  },
  {
   "cell_type": "code",
   "execution_count": null,
   "id": "7cac389e-4f4b-46d3-9fc9-36a5bd7f3bec",
   "metadata": {},
   "outputs": [],
   "source": [
    "Q.2 Given two strings word1 and word2, return the minimum number of operations required to convert word1 to word2."
   ]
  },
  {
   "cell_type": "code",
   "execution_count": 1,
   "id": "fe9af17c-f42f-4d7c-9578-dd6a14b8a270",
   "metadata": {},
   "outputs": [
    {
     "name": "stdout",
     "output_type": "stream",
     "text": [
      "5\n"
     ]
    }
   ],
   "source": [
    " def editDistance(str1, str2, m, n):\n",
    "\n",
    "    if m == 0:\n",
    "        return n\n",
    "\n",
    "    if n == 0:\n",
    "        return m\n",
    "\n",
    "    if str1[m-1] == str2[n-1]:\n",
    "        return editDistance(str1, str2, m-1, n-1)\n",
    "\n",
    "    return 1 + min(editDistance(str1, str2, m, n-1),    # Insert\n",
    "                   editDistance(str1, str2, m-1, n),    # Remove\n",
    "                   editDistance(str1, str2, m-1, n-1)    # Replace\n",
    "                   )\n",
    "\n",
    "str1 = \"intention\"\n",
    "str2 = \"execution\"\n",
    "print(editDistance(str1, str2, len(str1), len(str2)))"
   ]
  },
  {
   "cell_type": "code",
   "execution_count": null,
   "id": "5479279b-7fea-4c61-80a9-6c43dccedebd",
   "metadata": {},
   "outputs": [],
   "source": [
    "Q. 3 Print the max value of the array [ 13, 1, -3, 22, 5]"
   ]
  },
  {
   "cell_type": "code",
   "execution_count": 56,
   "id": "91d37716-be70-4af0-8988-8007f9840edb",
   "metadata": {},
   "outputs": [
    {
     "data": {
      "text/plain": [
       "22"
      ]
     },
     "execution_count": 56,
     "metadata": {},
     "output_type": "execute_result"
    }
   ],
   "source": [
    "max_ele=0\n",
    "def max_arry(a):\n",
    "    global max_ele\n",
    "    if len(a)==0:\n",
    "        return 0\n",
    "    if a[0]>max_ele:\n",
    "        max_ele=a[0]\n",
    "    max_arry(a[1:])\n",
    "    return max_ele\n",
    "    \n",
    "    \n",
    "a=[13, 1, -3, 22, 5]\n",
    "max_arry(a)"
   ]
  },
  {
   "cell_type": "code",
   "execution_count": null,
   "id": "899e20b8-9266-4f45-8a42-6c63fa5294bc",
   "metadata": {},
   "outputs": [],
   "source": [
    "Q.4 Find the sum of the values of the array [92, 23, 15, -20, 10]."
   ]
  },
  {
   "cell_type": "code",
   "execution_count": 58,
   "id": "06887aa6-4cf4-421f-b61a-18113eec32bb",
   "metadata": {},
   "outputs": [
    {
     "data": {
      "text/plain": [
       "120"
      ]
     },
     "execution_count": 58,
     "metadata": {},
     "output_type": "execute_result"
    }
   ],
   "source": [
    "def max_no(a):\n",
    "    if len(a)==0:\n",
    "        return 0\n",
    "    else:\n",
    "        return a[0]+ max_no(a[1:])\n",
    "    \n",
    "a= [92, 23, 15, -20, 10]\n",
    "max_no(a)"
   ]
  },
  {
   "cell_type": "code",
   "execution_count": null,
   "id": "eeda41c2-6038-4964-87f4-21dea6e32aab",
   "metadata": {},
   "outputs": [],
   "source": [
    "Q.5 Given a number n. Print if it is an armstrong number or not.An armstrong number is a number if the sum \n",
    "of every digit in that number raised to the power of total digits in that number is equal to the number."
   ]
  },
  {
   "cell_type": "code",
   "execution_count": 14,
   "id": "d681ebab-bff5-46e9-a2b5-eb4c7fb164c3",
   "metadata": {},
   "outputs": [
    {
     "name": "stdout",
     "output_type": "stream",
     "text": [
      "Yes\n"
     ]
    }
   ],
   "source": [
    "def armstrong(num,por,sum,temp):\n",
    "    if temp==0:\n",
    "        if sum==num:\n",
    "            return True\n",
    "        else:\n",
    "            return False\n",
    "        \n",
    "    digit = temp%10\n",
    "    sum+=digit**por\n",
    "    temp=temp//10\n",
    "    return armstrong(num,por,sum,temp)\n",
    "    \n",
    "num = 153\n",
    "sum=0\n",
    "por=len(str(num))\n",
    "temp=num\n",
    "result=armstrong(num,n1,sum,temp)\n",
    "\n",
    "if result:\n",
    "    print(\"Yes\")\n",
    "else:\n",
    "    print(\"No\")"
   ]
  },
  {
   "cell_type": "code",
   "execution_count": null,
   "id": "1c3d9e84-1b81-47a2-b928-52abd96492fc",
   "metadata": {},
   "outputs": [],
   "source": []
  }
 ],
 "metadata": {
  "kernelspec": {
   "display_name": "Python 3 (ipykernel)",
   "language": "python",
   "name": "python3"
  },
  "language_info": {
   "codemirror_mode": {
    "name": "ipython",
    "version": 3
   },
   "file_extension": ".py",
   "mimetype": "text/x-python",
   "name": "python",
   "nbconvert_exporter": "python",
   "pygments_lexer": "ipython3",
   "version": "3.10.8"
  }
 },
 "nbformat": 4,
 "nbformat_minor": 5
}
